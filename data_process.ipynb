{
 "cells": [
  {
   "cell_type": "code",
   "execution_count": 5,
   "metadata": {},
   "outputs": [],
   "source": [
    "import pandas as pd\n",
    "import numpy as np\n",
    "import yfinance as yf\n",
    "from yfinance import EquityQuery\n",
    "\n",
    "\n",
    "#try pandas datareader?\n",
    "#use yf.pdr_override() if opt in for datareader"
   ]
  },
  {
   "cell_type": "code",
   "execution_count": null,
   "metadata": {},
   "outputs": [],
   "source": [
    "# dat = yf.Ticker(\"2YY=F\")\n",
    "# dat.info"
   ]
  },
  {
   "cell_type": "code",
   "execution_count": null,
   "metadata": {},
   "outputs": [],
   "source": [
    "# df = yf.download(['GOOG'], period='1mo')\n",
    "# #use only close price?\n",
    "# #252 is the usual number of trading days\n",
    "# df.head()"
   ]
  },
  {
   "cell_type": "code",
   "execution_count": null,
   "metadata": {},
   "outputs": [],
   "source": [
    "# #Here we first create a filter with EquityQuery and then use it in the yf.screen() function\n",
    "# q = EquityQuery('and', [EquityQuery('eq', ['region', 'us']),\n",
    "#               #EquityQuery('gte', ['intradaymarketcap', 2000000000]),\n",
    "#               EquityQuery('gt', ['dayvolume', 5000000])\n",
    "# ])\n",
    "\n",
    "\n",
    "# response = yf.screen(q, sortField = 'dayvolume', sortAsc = False, size=100)"
   ]
  },
  {
   "cell_type": "code",
   "execution_count": null,
   "metadata": {},
   "outputs": [],
   "source": []
  }
 ],
 "metadata": {
  "kernelspec": {
   "display_name": "venv",
   "language": "python",
   "name": "python3"
  },
  "language_info": {
   "codemirror_mode": {
    "name": "ipython",
    "version": 3
   },
   "file_extension": ".py",
   "mimetype": "text/x-python",
   "name": "python",
   "nbconvert_exporter": "python",
   "pygments_lexer": "ipython3",
   "version": "3.13.2"
  }
 },
 "nbformat": 4,
 "nbformat_minor": 2
}
