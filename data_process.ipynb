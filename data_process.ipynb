{
 "cells": [
  {
   "cell_type": "code",
   "execution_count": 1,
   "metadata": {},
   "outputs": [
    {
     "name": "stderr",
     "output_type": "stream",
     "text": [
      "c:\\Users\\Kirill\\Documents\\Projects\\thesis\\venv312\\Lib\\site-packages\\tslearn\\bases\\bases.py:15: UserWarning: h5py not installed, hdf5 features will not be supported.\n",
      "Install h5py to use hdf5 features: http://docs.h5py.org/\n",
      "  warn(h5py_msg)\n"
     ]
    }
   ],
   "source": [
    "import pandas as pd\n",
    "import random \n",
    "import itertools\n",
    "import json\n",
    "\n",
    "pd.set_option('display.max_rows', 50)\n",
    "\n",
    "\n",
    "from functions import sharpe_ratio_calculation, generate_rand_portfolios, select_top_five, join_stocks_crypto, dtw_matrix_calc, run_min_variance, run_clustering_model"
   ]
  },
  {
   "cell_type": "code",
   "execution_count": 2,
   "metadata": {},
   "outputs": [],
   "source": [
    "df_all_stocks = pd.read_csv('stocks_data.csv',index_col='Date')\n",
    "cryptos_df = pd.read_csv('cryptos_data.csv', index_col='Date')\n",
    "\n",
    "joined_df = join_stocks_crypto(cryptos_df, df_all_stocks, mode = 'crypto_left') #mode - either do left with crypto and fill NA for stocks or do left on stocks and leave out some dates"
   ]
  },
  {
   "cell_type": "code",
   "execution_count": 3,
   "metadata": {},
   "outputs": [],
   "source": [
    "#Random Portfolios generation\n",
    "tickers = list(df_all_stocks.columns)\n",
    "\n",
    "random.seed(42)\n",
    "random_portfolios = generate_rand_portfolios(n_reps=1000, n_stocks=15, tickers=tickers)"
   ]
  },
  {
   "cell_type": "code",
   "execution_count": 4,
   "metadata": {},
   "outputs": [],
   "source": [
    "#Select top five sharpe ratio portfolios from a portfolio\n",
    "sharpe_ratio = sharpe_ratio_calculation(df_all_stocks, rf_rate_annual = 0.02)\n",
    "top_five_dict = select_top_five(random_portfolios, metric=sharpe_ratio)"
   ]
  },
  {
   "cell_type": "code",
   "execution_count": 5,
   "metadata": {},
   "outputs": [],
   "source": [
    "# for i in range(1,20):\n",
    "\n",
    "#     print('Doing', i)\n",
    "\n",
    "#     top_five_sets = dict(itertools.islice(top_five_dict.items(), i, i+1))\n",
    "#     results = run_min_variance(df_all_stocks, top_five_sets) \n",
    "#     with open(f\"min_variance_portfolio_jsons/my_dict{i}.json\", \"w\") as f:\n",
    "#         json.dump(results, f, indent=4)"
   ]
  },
  {
   "cell_type": "code",
   "execution_count": 6,
   "metadata": {},
   "outputs": [],
   "source": [
    "# dtw_matrix = dtw_matrix_calc(joined_df)\n",
    "\n",
    "# labels_kmeans = run_clustering_model(joined_df, n_clus=3, model_name='kmeans')\n",
    "\n",
    "# labels_kshape = run_clustering_model(joined_df, n_clus=3, model_name='kshape')\n",
    "\n",
    "# labels_ahc = run_clustering_model(joined_df, n_clus=3, model_name='ahc', linkage='single')"
   ]
  },
  {
   "cell_type": "code",
   "execution_count": null,
   "metadata": {},
   "outputs": [],
   "source": []
  },
  {
   "cell_type": "code",
   "execution_count": null,
   "metadata": {},
   "outputs": [],
   "source": []
  },
  {
   "cell_type": "code",
   "execution_count": 7,
   "metadata": {},
   "outputs": [],
   "source": [
    "#Compare based on Silhouette Score and Elbow method\n",
    "from sklearn.metrics import silhouette_score\n",
    "\n",
    "\n",
    "# n_clusters_list = [3,5,7,10]\n",
    "\n",
    "\n",
    "\n",
    "# def test_for_silhouette_score(df, n_clusters_list, method='kmeans'):\n",
    "#     dtw_matrix = dtw_matrix_calc(df)\n",
    "\n",
    "#     silhouettes = list()\n",
    "#     for n in n_clusters_list:\n",
    "#         labels, t = run_clustering_model(df, n_clus=n, model_name=method)\n",
    "#         score = silhouette_score(dtw_matrix, labels, metric='precomputed')\n",
    "#         silhouettes.append(int(score))\n",
    "\n",
    "\n",
    "#     silhouettes_df = pd.DataFrame({'clusters': n_clusters_list, 'silhouette scores': silhouettes})\n",
    "#     return silhouettes_df"
   ]
  },
  {
   "cell_type": "code",
   "execution_count": 8,
   "metadata": {},
   "outputs": [],
   "source": [
    "n_clusters_list = [3,5,7,10]\n",
    "def test_for_silhouette_score(df, n_clusters_list, method='kmeans', linkage_list=None):\n",
    "    dtw_matrix = dtw_matrix_calc(df)\n",
    "    silhouettes = []\n",
    "\n",
    "    # If AHC, require a list of linkage types\n",
    "    if method == 'ahc':\n",
    "        if linkage_list is None:\n",
    "            raise ValueError(\"You must provide a list of linkages when using method='ahc'\")\n",
    "        \n",
    "        for linkage in linkage_list:\n",
    "            for n in n_clusters_list:\n",
    "                labels, t = run_clustering_model(df, n_clus=n, model_name=method, linkage=linkage)\n",
    "                score = silhouette_score(dtw_matrix, labels, metric='precomputed')\n",
    "                silhouettes.append({\n",
    "                    'clusters': n,\n",
    "                    'silhouette_score': float(score),\n",
    "                    'method': method,\n",
    "                    'linkage': linkage\n",
    "                })\n",
    "    \n",
    "    else:\n",
    "        for n in n_clusters_list:\n",
    "            labels, t = run_clustering_model(df, n_clus=n, model_name=method)\n",
    "            score = silhouette_score(dtw_matrix, labels, metric='precomputed')\n",
    "            silhouettes.append({\n",
    "                'clusters': n,\n",
    "                'silhouette_score': float(score),\n",
    "                'method': method\n",
    "            })\n",
    "\n",
    "    return pd.DataFrame(silhouettes)"
   ]
  },
  {
   "cell_type": "code",
   "execution_count": 9,
   "metadata": {},
   "outputs": [
    {
     "name": "stderr",
     "output_type": "stream",
     "text": [
      "c:\\Users\\Kirill\\Documents\\Projects\\thesis\\venv312\\Lib\\site-packages\\sklearn\\utils\\deprecation.py:151: FutureWarning: 'force_all_finite' was renamed to 'ensure_all_finite' in 1.6 and will be removed in 1.8.\n",
      "  warnings.warn(\n",
      "c:\\Users\\Kirill\\Documents\\Projects\\thesis\\venv312\\Lib\\site-packages\\sklearn\\utils\\deprecation.py:151: FutureWarning: 'force_all_finite' was renamed to 'ensure_all_finite' in 1.6 and will be removed in 1.8.\n",
      "  warnings.warn(\n"
     ]
    }
   ],
   "source": [
    "silhouette_df = test_for_silhouette_score(df_all_stocks, n_clusters_list, method='ahc', linkage_list=['single', 'average'])"
   ]
  },
  {
   "cell_type": "code",
   "execution_count": 10,
   "metadata": {},
   "outputs": [
    {
     "data": {
      "text/html": [
       "<div>\n",
       "<style scoped>\n",
       "    .dataframe tbody tr th:only-of-type {\n",
       "        vertical-align: middle;\n",
       "    }\n",
       "\n",
       "    .dataframe tbody tr th {\n",
       "        vertical-align: top;\n",
       "    }\n",
       "\n",
       "    .dataframe thead th {\n",
       "        text-align: right;\n",
       "    }\n",
       "</style>\n",
       "<table border=\"1\" class=\"dataframe\">\n",
       "  <thead>\n",
       "    <tr style=\"text-align: right;\">\n",
       "      <th></th>\n",
       "      <th>clusters</th>\n",
       "      <th>silhouette_score</th>\n",
       "      <th>method</th>\n",
       "      <th>linkage</th>\n",
       "    </tr>\n",
       "  </thead>\n",
       "  <tbody>\n",
       "    <tr>\n",
       "      <th>0</th>\n",
       "      <td>3</td>\n",
       "      <td>0.161868</td>\n",
       "      <td>ahc</td>\n",
       "      <td>single</td>\n",
       "    </tr>\n",
       "    <tr>\n",
       "      <th>1</th>\n",
       "      <td>5</td>\n",
       "      <td>0.025196</td>\n",
       "      <td>ahc</td>\n",
       "      <td>single</td>\n",
       "    </tr>\n",
       "    <tr>\n",
       "      <th>2</th>\n",
       "      <td>7</td>\n",
       "      <td>0.015752</td>\n",
       "      <td>ahc</td>\n",
       "      <td>single</td>\n",
       "    </tr>\n",
       "    <tr>\n",
       "      <th>3</th>\n",
       "      <td>10</td>\n",
       "      <td>-0.028004</td>\n",
       "      <td>ahc</td>\n",
       "      <td>single</td>\n",
       "    </tr>\n",
       "    <tr>\n",
       "      <th>4</th>\n",
       "      <td>3</td>\n",
       "      <td>0.201038</td>\n",
       "      <td>ahc</td>\n",
       "      <td>average</td>\n",
       "    </tr>\n",
       "    <tr>\n",
       "      <th>5</th>\n",
       "      <td>5</td>\n",
       "      <td>0.078158</td>\n",
       "      <td>ahc</td>\n",
       "      <td>average</td>\n",
       "    </tr>\n",
       "    <tr>\n",
       "      <th>6</th>\n",
       "      <td>7</td>\n",
       "      <td>0.057452</td>\n",
       "      <td>ahc</td>\n",
       "      <td>average</td>\n",
       "    </tr>\n",
       "    <tr>\n",
       "      <th>7</th>\n",
       "      <td>10</td>\n",
       "      <td>0.044886</td>\n",
       "      <td>ahc</td>\n",
       "      <td>average</td>\n",
       "    </tr>\n",
       "  </tbody>\n",
       "</table>\n",
       "</div>"
      ],
      "text/plain": [
       "   clusters  silhouette_score method  linkage\n",
       "0         3          0.161868    ahc   single\n",
       "1         5          0.025196    ahc   single\n",
       "2         7          0.015752    ahc   single\n",
       "3        10         -0.028004    ahc   single\n",
       "4         3          0.201038    ahc  average\n",
       "5         5          0.078158    ahc  average\n",
       "6         7          0.057452    ahc  average\n",
       "7        10          0.044886    ahc  average"
      ]
     },
     "execution_count": 10,
     "metadata": {},
     "output_type": "execute_result"
    }
   ],
   "source": [
    "silhouette_df"
   ]
  },
  {
   "cell_type": "code",
   "execution_count": null,
   "metadata": {},
   "outputs": [],
   "source": []
  }
 ],
 "metadata": {
  "kernelspec": {
   "display_name": "venv312",
   "language": "python",
   "name": "python3"
  },
  "language_info": {
   "codemirror_mode": {
    "name": "ipython",
    "version": 3
   },
   "file_extension": ".py",
   "mimetype": "text/x-python",
   "name": "python",
   "nbconvert_exporter": "python",
   "pygments_lexer": "ipython3",
   "version": "3.12.10"
  }
 },
 "nbformat": 4,
 "nbformat_minor": 2
}
