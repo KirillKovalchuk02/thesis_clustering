{
 "cells": [
  {
   "cell_type": "code",
   "execution_count": 64,
   "metadata": {},
   "outputs": [],
   "source": [
    "import pandas as pd\n",
    "import numpy as np\n",
    "import yfinance as yf\n",
    "from yfinance import EquityQuery\n",
    "\n",
    "from datetime import datetime\n",
    "from dateutil.relativedelta import relativedelta\n",
    "\n",
    "#try pandas datareader?\n",
    "#use yf.pdr_override() if opt in for datareader"
   ]
  },
  {
   "cell_type": "code",
   "execution_count": 65,
   "metadata": {},
   "outputs": [],
   "source": [
    "# dat = yf.Ticker(\"2YY=F\")\n",
    "# dat.info"
   ]
  },
  {
   "cell_type": "code",
   "execution_count": null,
   "metadata": {},
   "outputs": [],
   "source": [
    "#Here we first create a filter with EquityQuery and then use it in the yf.screen() function\n",
    "def get_tickers_stocks(market, min_dayvolume, exchanges, n):\n",
    "\n",
    "    q = EquityQuery('and', [EquityQuery('eq', ['region', market]),\n",
    "                  EquityQuery('is-in', exchanges),\n",
    "                  EquityQuery('gt', ['dayvolume', min_dayvolume])\n",
    "    ])\n",
    "\n",
    "\n",
    "    response = yf.screen(q, sortField = 'lastclosemarketcap.lasttwelvemonths', sortAsc = False, size=n) #select top 100 companies by market cap\n",
    "\n",
    "\n",
    "    selected_stocks = {}\n",
    "    ticker_list = []\n",
    "    for stock in response['quotes']:\n",
    "        ticker = stock['symbol']\n",
    "        ticker_list.append(stock['symbol'])\n",
    "        selected_stocks[ticker] = {} #initialize the new sub dictionary\n",
    "\n",
    "        selected_stocks[ticker]['name'] = stock['shortName']\n",
    "        selected_stocks[ticker]['type'] = stock['quoteType']\n",
    "        selected_stocks[ticker]['exchange'] = stock['fullExchangeName']\n",
    "\n",
    "    return selected_stocks, ticker_list"
   ]
  },
  {
   "cell_type": "code",
   "execution_count": null,
   "metadata": {},
   "outputs": [],
   "source": [
    "exchanges = ['exchange', 'NMS', 'NYQ', 'NGM']\n",
    "\n",
    "selected_stocks_dict, ticker_list = get_tickers_stocks('us', 5000000, exchanges, 100)"
   ]
  },
  {
   "cell_type": "code",
   "execution_count": 66,
   "metadata": {},
   "outputs": [],
   "source": [
    "def get_close_prices(ticker_list, period = 2, start = '2022-01-01'):\n",
    "    \n",
    "    date_obj = datetime.strptime(start, '%Y-%m-%d')\n",
    "    end = date_obj + relativedelta(years=period)\n",
    "    enddate = end.strftime('%Y-%m-%d')\n",
    "\n",
    "\n",
    "\n",
    "\n",
    "    df = yf.download(ticker_list, start=start, end=enddate)\n",
    "    df_close = df['Close']\n",
    "\n",
    "    return df_close"
   ]
  },
  {
   "cell_type": "code",
   "execution_count": null,
   "metadata": {},
   "outputs": [
    {
     "name": "stderr",
     "output_type": "stream",
     "text": [
      "[*********************100%***********************]  100 of 100 completed\n",
      "\n",
      "3 Failed downloads:\n",
      "['CORZ', 'NBIS', 'TEM']: YFPricesMissingError('possibly delisted; no price data found  (1d 2022-01-01 -> 2024-01-01) (Yahoo error = \"Data doesn\\'t exist for startDate = 1641013200, endDate = 1704085200\")')\n"
     ]
    }
   ],
   "source": [
    "df_close = get_close_prices(ticker_list, period = 2)\n",
    "df_close"
   ]
  },
  {
   "cell_type": "code",
   "execution_count": null,
   "metadata": {},
   "outputs": [],
   "source": []
  }
 ],
 "metadata": {
  "kernelspec": {
   "display_name": "venv",
   "language": "python",
   "name": "python3"
  },
  "language_info": {
   "codemirror_mode": {
    "name": "ipython",
    "version": 3
   },
   "file_extension": ".py",
   "mimetype": "text/x-python",
   "name": "python",
   "nbconvert_exporter": "python",
   "pygments_lexer": "ipython3",
   "version": "3.13.2"
  }
 },
 "nbformat": 4,
 "nbformat_minor": 2
}
