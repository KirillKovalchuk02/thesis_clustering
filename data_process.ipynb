{
 "cells": [
  {
   "cell_type": "code",
   "execution_count": null,
   "metadata": {},
   "outputs": [],
   "source": [
    "import pandas as pd\n",
    "import numpy as np\n",
    "\n",
    "import random\n",
    "\n",
    "pd.set_option('display.max_rows', 50)\n",
    "\n",
    "\n",
    "from functions import get_tickers_stocks, get_close_prices, double_listed_stocks, sharpe_ratio_calculation, generate_rand_portfolios, select_top_five"
   ]
  },
  {
   "cell_type": "code",
   "execution_count": null,
   "metadata": {},
   "outputs": [],
   "source": [
    "#GET THE STOCKS\n",
    "\n",
    "us_exchanges = ['NMS', 'NYQ', 'NGM']\n",
    "eu_exchanges = ['PAR', 'FRA', 'LSE', 'AMS']\n",
    "asia_exchanges = ['SHH', 'JPX', 'HKG']\n",
    "\n",
    "selected_exchanges = us_exchanges + eu_exchanges + asia_exchanges\n",
    "\n",
    "full_selected_stocks = {}\n",
    "df_all_stocks = pd.DataFrame()\n",
    "for exchange in selected_exchanges:\n",
    "    print(f'Extracting from {exchange}')\n",
    "    exchanges = [exchange]\n",
    "    selected_stocks_dict, ticker_list = get_tickers_stocks(50000, exchanges, 50)\n",
    "\n",
    "    full_selected_stocks.update(selected_stocks_dict)\n",
    "\n",
    "    if len(ticker_list) > 0: \n",
    "        print('YES')\n",
    "        df = get_close_prices(ticker_list, period = 2, start = '2022-01-01')\n",
    "        df_all_stocks = pd.concat([df_all_stocks, df], axis=1)\n",
    "\n",
    "doubly_listed_tickers = double_listed_stocks(full_selected_stocks)\n",
    "\n",
    "for ticker_to_drop in doubly_listed_tickers:\n",
    "    try:\n",
    "        df_all_stocks = df_all_stocks.drop(columns=[ticker_to_drop])\n",
    "    except:\n",
    "        pass\n",
    "\n",
    "\n",
    "df_all_stocks = df_all_stocks.ffill() #ffill again after concatenating the tickers"
   ]
  },
  {
   "cell_type": "code",
   "execution_count": null,
   "metadata": {},
   "outputs": [],
   "source": [
    "#GETTING CRYPTOS FROM COINBASE 50 INDEX\n",
    "#https://www.marketvector.com/factsheets/download/COIN50.d.pdf\n",
    "\n",
    "coinbase_50_cryptos = ['BTC', 'ETH', 'XRP', 'SOL', 'DOGE', 'ADA', 'LINK', 'XLM', 'AVAX', 'SHIB', 'DOT', 'LTC', 'BCH', \n",
    "                       'UNI', 'NEAR', 'PEPE', 'APT', 'ICP', 'ETC', 'AAVE', 'RNDR', 'ATOM', 'MATIC', 'ALGO', 'EOS', 'MKR', \n",
    "                       'ASI', 'QNT', 'BONK', 'STX', 'INJ', 'GRT', 'LDO', 'XTZ', 'CRV', 'SAND', 'ZEC', 'HNT', 'JASMY', 'MANA', \n",
    "                       'AXS', 'WIF', 'CHZ', 'COMP', 'APE', 'AERO', '1INCH', 'SNX', 'ROSE', 'LPT']\n",
    "\n",
    "crypto_tickers_fixed = [tick + \"-USD\" for tick in coinbase_50_cryptos]\n",
    "\n",
    "cryptos_df = get_close_prices(crypto_tickers_fixed, period = 2, start = '2022-01-01')\n",
    "\n",
    "print('Number of NA values in cryptos_df is ', df.isna().any().sum())\n",
    "\n",
    "#cryptos_df"
   ]
  },
  {
   "cell_type": "code",
   "execution_count": null,
   "metadata": {},
   "outputs": [],
   "source": [
    "#Random Portfolios generation\n",
    "\n",
    "tickers = list(df_all_stocks.columns)\n",
    "\n",
    "random.seed(42)\n",
    "random_portfolios = generate_rand_portfolios(n_reps=1000, n_stocks=15, tickers=tickers)"
   ]
  },
  {
   "cell_type": "code",
   "execution_count": null,
   "metadata": {},
   "outputs": [],
   "source": [
    "#Select top five sharpe ratio portfolios from a portfolio\n",
    "\n",
    "sharpe_ratio = sharpe_ratio_calculation(df_all_stocks, rf_rate_annual = 0.02)\n",
    "\n",
    "top_five_dict = select_top_five(random_portfolios, metric=sharpe_ratio)"
   ]
  },
  {
   "cell_type": "code",
   "execution_count": null,
   "metadata": {},
   "outputs": [],
   "source": []
  },
  {
   "cell_type": "code",
   "execution_count": null,
   "metadata": {},
   "outputs": [],
   "source": []
  },
  {
   "cell_type": "code",
   "execution_count": null,
   "metadata": {},
   "outputs": [],
   "source": []
  },
  {
   "cell_type": "code",
   "execution_count": null,
   "metadata": {},
   "outputs": [],
   "source": [
    "# df_pct_change = df_all_stocks.pct_change().dropna()\n",
    "# cov_matrix = df_pct_change.cov().values"
   ]
  },
  {
   "cell_type": "code",
   "execution_count": null,
   "metadata": {},
   "outputs": [],
   "source": [
    "from pypfopt import EfficientFrontier\n",
    "from pypfopt import risk_models\n",
    "from pypfopt import expected_returns\n",
    "\n",
    "\n",
    "mu = expected_returns.mean_historical_return(df_all_stocks)  # Expected returns\n",
    "S = risk_models.sample_cov(df_all_stocks)  # Covariance matrix\n",
    "#S = risk_models.CovarianceShrinkage(df_all_stocks).ledoit_wolf()\n",
    "\n",
    "ef = EfficientFrontier(mu, S, weight_bounds=(0,1))\n",
    "\n",
    "\n",
    "#ADD CONSTRAINTS\n",
    "ef.add_constraint(lambda w: w[ef.tickers.index('AAPL')] >= 0.10)\n",
    "ef.add_constraint(lambda w: w[ef.tickers.index('GOOG')] >= 0.05)\n",
    "\n",
    "\n",
    "weights = ef.min_volatility()\n",
    "\n",
    "\n",
    "# print(\"Optimal portfolio weights (min variance):\")\n",
    "# for stock, weight in weights.items():\n",
    "#     if weight != 0:\n",
    "#         print(f\"{stock}: {weight:.4f}\")"
   ]
  },
  {
   "cell_type": "code",
   "execution_count": null,
   "metadata": {},
   "outputs": [],
   "source": [
    "# import cvxpy as cp\n",
    "\n",
    "# ef = EfficientFrontier(mu, S, solver=cp.GUROBI)\n",
    "# booleans = cp.Variable(len(ef.tickers), boolean=True)\n",
    "# ef.add_constraint(lambda x: x <= booleans)\n",
    "# ef.add_constraint(lambda x: cp.sum(booleans) <= 10)\n",
    "# ef.min_volatility()"
   ]
  },
  {
   "cell_type": "code",
   "execution_count": null,
   "metadata": {},
   "outputs": [],
   "source": [
    "from scipy.optimize import minimize\n",
    "\n",
    "returns = df_all_stocks.pct_change().dropna()\n",
    "cov_matrix = returns.cov()\n",
    "\n",
    "\n",
    "\n",
    "\n",
    "expected_returns = returns.mean()\n",
    "\n",
    "# Define the optimization function (objective: minimize portfolio variance)\n",
    "def objective(weights):\n",
    "    portfolio_variance = np.dot(weights.T, np.dot(cov_matrix, weights))\n",
    "    return portfolio_variance\n",
    "\n",
    "# Constraints: \n",
    "# - The portfolio should contain exactly 15 stocks (5 preselected + 10 chosen)\n",
    "# - The weights should sum to 1 (fully invested portfolio)\n",
    "def constraints(weights):\n",
    "    return np.sum(weights) - 1  # sum of weights must be 1\n",
    "\n",
    "# Bounds for each stock's weight (between 0 and 1)\n",
    "bounds = [(0, 1) for _ in range(len(returns))]\n",
    "\n",
    "# Initial guess: Equal weight for each stock\n",
    "initial_guess = np.ones(len(returns)) / len(returns)\n",
    "\n",
    "# Define the optimization problem\n",
    "result = minimize(\n",
    "    objective, initial_guess, method='SLSQP', bounds=bounds, constraints={'type': 'eq', 'fun': constraints}\n",
    ")\n",
    "\n",
    "# Check if the optimization was successful\n",
    "if result.success:\n",
    "    optimized_weights = result.x\n",
    "    selected_stocks = investment_universe\n",
    "    stock_weights = dict(zip(selected_stocks, optimized_weights))\n",
    "\n",
    "    # Get the 5 preselected stocks' weights\n",
    "    preselected_weights = {stock: stock_weights[stock] for stock in preselected_stocks}\n",
    "    print(\"Preselected Stock Weights:\")\n",
    "    print(preselected_weights)\n",
    "    \n",
    "    # Get the 10 new stocks' weights (excluding preselected)\n",
    "    remaining_stocks = [stock for stock in selected_stocks if stock not in preselected_stocks]\n",
    "    remaining_weights = {stock: stock_weights[stock] for stock in remaining_stocks}\n",
    "    print(\"\\nRemaining Stock Weights:\")\n",
    "    print(remaining_weights)\n",
    "else:\n",
    "    print(\"Optimization failed:\", result.message)"
   ]
  }
 ],
 "metadata": {
  "kernelspec": {
   "display_name": ".venv",
   "language": "python",
   "name": "python3"
  },
  "language_info": {
   "codemirror_mode": {
    "name": "ipython",
    "version": 3
   },
   "file_extension": ".py",
   "mimetype": "text/x-python",
   "name": "python",
   "nbconvert_exporter": "python",
   "pygments_lexer": "ipython3",
   "version": "3.13.2"
  }
 },
 "nbformat": 4,
 "nbformat_minor": 2
}
