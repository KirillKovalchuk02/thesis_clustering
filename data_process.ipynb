{
 "cells": [
  {
   "cell_type": "code",
   "execution_count": 1,
   "metadata": {},
   "outputs": [
    {
     "name": "stdout",
     "output_type": "stream",
     "text": [
      "load c:\\Users\\Kirill\\Documents\\Projects\\thesis\\cleanenv\\Lib\\site-packages\\ortools\\.libs\\zlib1.dll...\n",
      "load c:\\Users\\Kirill\\Documents\\Projects\\thesis\\cleanenv\\Lib\\site-packages\\ortools\\.libs\\abseil_dll.dll...\n",
      "load c:\\Users\\Kirill\\Documents\\Projects\\thesis\\cleanenv\\Lib\\site-packages\\ortools\\.libs\\utf8_validity.dll...\n",
      "load c:\\Users\\Kirill\\Documents\\Projects\\thesis\\cleanenv\\Lib\\site-packages\\ortools\\.libs\\re2.dll...\n",
      "load c:\\Users\\Kirill\\Documents\\Projects\\thesis\\cleanenv\\Lib\\site-packages\\ortools\\.libs\\libprotobuf.dll...\n",
      "load c:\\Users\\Kirill\\Documents\\Projects\\thesis\\cleanenv\\Lib\\site-packages\\ortools\\.libs\\highs.dll...\n",
      "load c:\\Users\\Kirill\\Documents\\Projects\\thesis\\cleanenv\\Lib\\site-packages\\ortools\\.libs\\ortools.dll...\n"
     ]
    }
   ],
   "source": [
    "import pandas as pd\n",
    "import numpy as np\n",
    "\n",
    "from ortools.linear_solver import pywraplp\n",
    "\n",
    "import random\n",
    "\n",
    "pd.set_option('display.max_rows', 50)\n",
    "\n",
    "\n",
    "from functions import get_tickers_stocks, get_close_prices, double_listed_stocks, sharpe_ratio_calculation, generate_rand_portfolios, select_top_five"
   ]
  },
  {
   "cell_type": "code",
   "execution_count": 2,
   "metadata": {},
   "outputs": [
    {
     "name": "stdout",
     "output_type": "stream",
     "text": [
      "Extracting from NMS\n",
      "YES\n",
      "YF.download() has changed argument auto_adjust default to True\n"
     ]
    },
    {
     "name": "stderr",
     "output_type": "stream",
     "text": [
      "[*********************100%***********************]  50 of 50 completed\n",
      "\n",
      "1 Failed download:\n",
      "['KSPI']: YFPricesMissingError('possibly delisted; no price data found  (1d 2022-01-01 -> 2024-01-01) (Yahoo error = \"Data doesn\\'t exist for startDate = 1641013200, endDate = 1704085200\")')\n"
     ]
    },
    {
     "name": "stdout",
     "output_type": "stream",
     "text": [
      "Extracting from NYQ\n",
      "YES\n"
     ]
    },
    {
     "name": "stderr",
     "output_type": "stream",
     "text": [
      "[*********************100%***********************]  50 of 50 completed\n"
     ]
    },
    {
     "name": "stdout",
     "output_type": "stream",
     "text": [
      "Extracting from NGM\n",
      "YES\n"
     ]
    },
    {
     "name": "stderr",
     "output_type": "stream",
     "text": [
      "[*********************100%***********************]  50 of 50 completed\n",
      "\n",
      "2 Failed downloads:\n",
      "['SOUNW']: YFPricesMissingError('possibly delisted; no price data found  (1d 2022-01-01 -> 2024-01-01)')\n",
      "['DJTWW']: YFPricesMissingError('possibly delisted; no price data found  (1d 2022-01-01 -> 2024-01-01) (Yahoo error = \"Data doesn\\'t exist for startDate = 1641013200, endDate = 1704085200\")')\n",
      "[                       0%                       ]"
     ]
    },
    {
     "name": "stdout",
     "output_type": "stream",
     "text": [
      "Extracting from PAR\n",
      "YES\n"
     ]
    },
    {
     "name": "stderr",
     "output_type": "stream",
     "text": [
      "[*********************100%***********************]  50 of 50 completed\n",
      "\n",
      "6 Failed downloads:\n",
      "['ACALM.PA', 'ACAKN.PA', 'ACAKQ.PA', 'ACALB.PA', 'ACAKV.PA', 'ACAKP.PA']: YFPricesMissingError('possibly delisted; no price data found  (1d 2022-01-01 -> 2024-01-01)')\n",
      "[***                    6%                       ]  3 of 50 completed"
     ]
    },
    {
     "name": "stdout",
     "output_type": "stream",
     "text": [
      "Extracting from FRA\n",
      "YES\n"
     ]
    },
    {
     "name": "stderr",
     "output_type": "stream",
     "text": [
      "[*********************100%***********************]  50 of 50 completed\n",
      "\n",
      "3 Failed downloads:\n",
      "['7D0.F', 'D7G.F', 'I41.F']: YFPricesMissingError('possibly delisted; no price data found  (1d 2022-01-01 -> 2024-01-01) (Yahoo error = \"Data doesn\\'t exist for startDate = 1640991600, endDate = 1704063600\")')\n",
      "[                       0%                       ]"
     ]
    },
    {
     "name": "stdout",
     "output_type": "stream",
     "text": [
      "Extracting from LSE\n",
      "YES\n"
     ]
    },
    {
     "name": "stderr",
     "output_type": "stream",
     "text": [
      "[*********************100%***********************]  50 of 50 completed\n",
      "\n",
      "1 Failed download:\n",
      "['0R15.L']: YFPricesMissingError('possibly delisted; no price data found  (1d 2022-01-01 -> 2024-01-01)')\n"
     ]
    },
    {
     "name": "stdout",
     "output_type": "stream",
     "text": [
      "Extracting from AMS\n",
      "YES\n"
     ]
    },
    {
     "name": "stderr",
     "output_type": "stream",
     "text": [
      "[*********************100%***********************]  50 of 50 completed\n",
      "\n",
      "4 Failed downloads:\n",
      "['NEDSE.AS', 'CVC.AS', 'THEON.AS']: YFPricesMissingError('possibly delisted; no price data found  (1d 2022-01-01 -> 2024-01-01) (Yahoo error = \"Data doesn\\'t exist for startDate = 1640991600, endDate = 1704063600\")')\n",
      "['AA261.AS']: YFPricesMissingError('possibly delisted; no price data found  (1d 2022-01-01 -> 2024-01-01)')\n",
      "[**                     4%                       ]  2 of 50 completed"
     ]
    },
    {
     "name": "stdout",
     "output_type": "stream",
     "text": [
      "Extracting from SHH\n",
      "YES\n"
     ]
    },
    {
     "name": "stderr",
     "output_type": "stream",
     "text": [
      "[*********************100%***********************]  50 of 50 completed\n"
     ]
    },
    {
     "name": "stdout",
     "output_type": "stream",
     "text": [
      "Extracting from JPX\n",
      "YES\n"
     ]
    },
    {
     "name": "stderr",
     "output_type": "stream",
     "text": [
      "[*********************100%***********************]  50 of 50 completed\n",
      "\n",
      "1 Failed download:\n",
      "['6701.T']: YFPricesMissingError('possibly delisted; no price data found  (1d 2022-01-01 -> 2024-01-01)')\n",
      "[**                     4%                       ]  2 of 50 completed"
     ]
    },
    {
     "name": "stdout",
     "output_type": "stream",
     "text": [
      "Extracting from HKG\n",
      "YES\n"
     ]
    },
    {
     "name": "stderr",
     "output_type": "stream",
     "text": [
      "[*********************100%***********************]  50 of 50 completed\n",
      "\n",
      "2 Failed downloads:\n",
      "['0300.HK', '6936.HK']: YFPricesMissingError('possibly delisted; no price data found  (1d 2022-01-01 -> 2024-01-01) (Yahoo error = \"Data doesn\\'t exist for startDate = 1640966400, endDate = 1704038400\")')\n"
     ]
    },
    {
     "name": "stdout",
     "output_type": "stream",
     "text": [
      "There is no name found in dict for SOUNW\n"
     ]
    }
   ],
   "source": [
    "#GET THE STOCKS\n",
    "\n",
    "us_exchanges = ['NMS', 'NYQ', 'NGM']\n",
    "eu_exchanges = ['PAR', 'FRA', 'LSE', 'AMS']\n",
    "asia_exchanges = ['SHH', 'JPX', 'HKG']\n",
    "\n",
    "selected_exchanges = us_exchanges + eu_exchanges + asia_exchanges\n",
    "\n",
    "full_selected_stocks = {}\n",
    "df_all_stocks = pd.DataFrame()\n",
    "for exchange in selected_exchanges:\n",
    "    print(f'Extracting from {exchange}')\n",
    "    exchanges = [exchange]\n",
    "    selected_stocks_dict, ticker_list = get_tickers_stocks(50000, exchanges, 50)\n",
    "\n",
    "    full_selected_stocks.update(selected_stocks_dict)\n",
    "\n",
    "    if len(ticker_list) > 0: \n",
    "        print('YES')\n",
    "        df = get_close_prices(ticker_list, period = 2, start = '2022-01-01')\n",
    "        df_all_stocks = pd.concat([df_all_stocks, df], axis=1)\n",
    "\n",
    "doubly_listed_tickers = double_listed_stocks(full_selected_stocks)\n",
    "\n",
    "for ticker_to_drop in doubly_listed_tickers:\n",
    "    try:\n",
    "        df_all_stocks = df_all_stocks.drop(columns=[ticker_to_drop])\n",
    "    except:\n",
    "        pass\n",
    "\n",
    "\n",
    "df_all_stocks = df_all_stocks.ffill() #ffill again after concatenating the tickers"
   ]
  },
  {
   "cell_type": "code",
   "execution_count": 3,
   "metadata": {},
   "outputs": [
    {
     "name": "stderr",
     "output_type": "stream",
     "text": [
      "[*********************100%***********************]  50 of 50 completed\n",
      "\n",
      "1 Failed download:\n",
      "['ASI-USD']: YFPricesMissingError('possibly delisted; no price data found  (1d 2022-01-01 -> 2024-01-01) (Yahoo error = \"Data doesn\\'t exist for startDate = 1640995200, endDate = 1704067200\")')\n"
     ]
    },
    {
     "name": "stdout",
     "output_type": "stream",
     "text": [
      "Number of NA values in cryptos_df is  0\n"
     ]
    }
   ],
   "source": [
    "#GETTING CRYPTOS FROM COINBASE 50 INDEX\n",
    "#https://www.marketvector.com/factsheets/download/COIN50.d.pdf\n",
    "\n",
    "coinbase_50_cryptos = ['BTC', 'ETH', 'XRP', 'SOL', 'DOGE', 'ADA', 'LINK', 'XLM', 'AVAX', 'SHIB', 'DOT', 'LTC', 'BCH', \n",
    "                       'UNI', 'NEAR', 'PEPE', 'APT', 'ICP', 'ETC', 'AAVE', 'RNDR', 'ATOM', 'MATIC', 'ALGO', 'EOS', 'MKR', \n",
    "                       'ASI', 'QNT', 'BONK', 'STX', 'INJ', 'GRT', 'LDO', 'XTZ', 'CRV', 'SAND', 'ZEC', 'HNT', 'JASMY', 'MANA', \n",
    "                       'AXS', 'WIF', 'CHZ', 'COMP', 'APE', 'AERO', '1INCH', 'SNX', 'ROSE', 'LPT']\n",
    "\n",
    "crypto_tickers_fixed = [tick + \"-USD\" for tick in coinbase_50_cryptos]\n",
    "\n",
    "cryptos_df = get_close_prices(crypto_tickers_fixed, period = 2, start = '2022-01-01')\n",
    "\n",
    "print('Number of NA values in cryptos_df is ', df.isna().any().sum())\n",
    "\n",
    "#cryptos_df"
   ]
  },
  {
   "cell_type": "code",
   "execution_count": 4,
   "metadata": {},
   "outputs": [],
   "source": [
    "#Random Portfolios generation\n",
    "\n",
    "tickers = list(df_all_stocks.columns)\n",
    "\n",
    "random.seed(42)\n",
    "random_portfolios = generate_rand_portfolios(n_reps=1000, n_stocks=15, tickers=tickers)"
   ]
  },
  {
   "cell_type": "code",
   "execution_count": 5,
   "metadata": {},
   "outputs": [],
   "source": [
    "#Select top five sharpe ratio portfolios from a portfolio\n",
    "\n",
    "sharpe_ratio = sharpe_ratio_calculation(df_all_stocks, rf_rate_annual = 0.02)\n",
    "\n",
    "top_five_dict = select_top_five(random_portfolios, metric=sharpe_ratio)"
   ]
  },
  {
   "cell_type": "code",
   "execution_count": null,
   "metadata": {},
   "outputs": [],
   "source": []
  },
  {
   "cell_type": "code",
   "execution_count": null,
   "metadata": {},
   "outputs": [],
   "source": []
  },
  {
   "cell_type": "code",
   "execution_count": null,
   "metadata": {},
   "outputs": [],
   "source": []
  },
  {
   "cell_type": "code",
   "execution_count": 35,
   "metadata": {},
   "outputs": [],
   "source": [
    "df_pct_change = df_all_stocks.pct_change().dropna()\n",
    "cov_matrix = df_pct_change.cov().values"
   ]
  },
  {
   "cell_type": "code",
   "execution_count": 2,
   "metadata": {},
   "outputs": [
    {
     "ename": "ModuleNotFoundError",
     "evalue": "No module named 'pyportfolioopt'",
     "output_type": "error",
     "traceback": [
      "\u001b[31m---------------------------------------------------------------------------\u001b[39m",
      "\u001b[31mModuleNotFoundError\u001b[39m                       Traceback (most recent call last)",
      "\u001b[36mCell\u001b[39m\u001b[36m \u001b[39m\u001b[32mIn[2]\u001b[39m\u001b[32m, line 1\u001b[39m\n\u001b[32m----> \u001b[39m\u001b[32m1\u001b[39m \u001b[38;5;28;01mfrom\u001b[39;00m\u001b[38;5;250m \u001b[39m\u001b[34;01mpyportfolioopt\u001b[39;00m\u001b[38;5;250m \u001b[39m\u001b[38;5;28;01mimport\u001b[39;00m EfficientFrontier\n\u001b[32m      2\u001b[39m \u001b[38;5;28;01mfrom\u001b[39;00m\u001b[38;5;250m \u001b[39m\u001b[34;01mpyportfolioopt\u001b[39;00m\u001b[38;5;250m \u001b[39m\u001b[38;5;28;01mimport\u001b[39;00m risk_models\n\u001b[32m      3\u001b[39m \u001b[38;5;28;01mfrom\u001b[39;00m\u001b[38;5;250m \u001b[39m\u001b[34;01mpyportfolioopt\u001b[39;00m\u001b[38;5;250m \u001b[39m\u001b[38;5;28;01mimport\u001b[39;00m expected_returns\n",
      "\u001b[31mModuleNotFoundError\u001b[39m: No module named 'pyportfolioopt'"
     ]
    }
   ],
   "source": [
    "from pyportfolioopt import EfficientFrontier\n",
    "from pyportfolioopt import risk_models\n",
    "from pyportfolioopt import expected_returns\n",
    "\n",
    "# Assuming df_pct_change is already defined, containing the percentage change in stock prices.\n",
    "\n",
    "# Step 1: Calculate expected returns and the covariance matrix\n",
    "mu = expected_returns.mean_historical_return(df_pct_change)  # Expected returns\n",
    "S = risk_models.sample_cov(df_pct_change)  # Covariance matrix\n",
    "\n",
    "# Step 2: Create an Efficient Frontier object\n",
    "ef = EfficientFrontier(mu, S)\n",
    "\n",
    "# Step 3: Find the minimum variance portfolio\n",
    "weights = ef.min_volatility()\n",
    "\n",
    "# Step 4: Print the optimal weights for the minimum variance portfolio\n",
    "print(\"Optimal portfolio weights (min variance):\")\n",
    "for stock, weight in weights.items():\n",
    "    print(f\"{stock}: {weight:.4f}\")"
   ]
  },
  {
   "cell_type": "code",
   "execution_count": 1,
   "metadata": {},
   "outputs": [
    {
     "ename": "ModuleNotFoundError",
     "evalue": "No module named 'pyportfolioopt'",
     "output_type": "error",
     "traceback": [
      "\u001b[31m---------------------------------------------------------------------------\u001b[39m",
      "\u001b[31mModuleNotFoundError\u001b[39m                       Traceback (most recent call last)",
      "\u001b[36mCell\u001b[39m\u001b[36m \u001b[39m\u001b[32mIn[1]\u001b[39m\u001b[32m, line 1\u001b[39m\n\u001b[32m----> \u001b[39m\u001b[32m1\u001b[39m \u001b[38;5;28;01mfrom\u001b[39;00m\u001b[38;5;250m \u001b[39m\u001b[34;01mpyportfolioopt\u001b[39;00m\u001b[38;5;250m \u001b[39m\u001b[38;5;28;01mimport\u001b[39;00m EfficientFrontier\n",
      "\u001b[31mModuleNotFoundError\u001b[39m: No module named 'pyportfolioopt'"
     ]
    }
   ],
   "source": [
    "from pyportfolioopt import EfficientFrontier"
   ]
  },
  {
   "cell_type": "code",
   "execution_count": null,
   "metadata": {},
   "outputs": [],
   "source": []
  }
 ],
 "metadata": {
  "kernelspec": {
   "display_name": "cleanenv",
   "language": "python",
   "name": "python3"
  },
  "language_info": {
   "codemirror_mode": {
    "name": "ipython",
    "version": 3
   },
   "file_extension": ".py",
   "mimetype": "text/x-python",
   "name": "python",
   "nbconvert_exporter": "python",
   "pygments_lexer": "ipython3",
   "version": "3.13.2"
  }
 },
 "nbformat": 4,
 "nbformat_minor": 2
}
