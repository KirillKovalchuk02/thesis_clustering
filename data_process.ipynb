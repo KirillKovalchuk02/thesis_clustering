{
 "cells": [
  {
   "cell_type": "code",
   "execution_count": null,
   "metadata": {},
   "outputs": [],
   "source": [
    "import pandas as pd\n",
    "import numpy as np\n",
    "import yfinance as yf\n",
    "from yfinance import EquityQuery\n",
    "\n",
    "from datetime import datetime\n",
    "from dateutil.relativedelta import relativedelta\n",
    "\n",
    "\n",
    "pd.set_option('display.max_rows', 50)"
   ]
  },
  {
   "cell_type": "code",
   "execution_count": null,
   "metadata": {},
   "outputs": [],
   "source": [
    "# dat = yf.Ticker(\"2YY=F\")\n",
    "# dat.info\n",
    "\n",
    "\n",
    "\n",
    "\n",
    "#US stocks\n",
    "# exchanges = ['NMS', 'NYQ', 'NGM']\n",
    "# countries = ['us']\n",
    "\n",
    "# selected_stocks_dict, ticker_list = get_tickers_stocks(countries, 5000000, exchanges, 120)\n",
    "\n",
    "# df_us = get_close_prices(ticker_list, period = 2)\n",
    "# df_us"
   ]
  },
  {
   "cell_type": "code",
   "execution_count": 87,
   "metadata": {},
   "outputs": [],
   "source": [
    "#Here we first create a filter with EquityQuery and then use it in the yf.screen() function\n",
    "def get_tickers_stocks(min_dayvolume, exchanges, n):\n",
    "\n",
    "    #markets = ['region'] + markets\n",
    "    exchanges = ['exchange'] + exchanges\n",
    "    \n",
    "    q = EquityQuery('and', [            #EquityQuery('is-in', markets), #remove the notion of a region\n",
    "                  EquityQuery('is-in', exchanges),\n",
    "                  EquityQuery('gt', ['dayvolume', min_dayvolume])\n",
    "    ])\n",
    "\n",
    "\n",
    "    response = yf.screen(q, sortField = 'lastclosemarketcap.lasttwelvemonths', sortAsc = False, size=n) #select top 100 companies by market cap\n",
    "\n",
    "\n",
    "    selected_stocks = {}\n",
    "    ticker_list = []\n",
    "    for stock in response['quotes']:\n",
    "        ticker = stock['symbol']\n",
    "        ticker_list.append(stock['symbol'])\n",
    "        selected_stocks[ticker] = {} #initialize the new sub dictionary\n",
    "        try:\n",
    "            selected_stocks[ticker]['name'] = stock['shortName']\n",
    "            selected_stocks[ticker]['type'] = stock['quoteType']\n",
    "            selected_stocks[ticker]['exchange'] = stock['fullExchangeName']\n",
    "        except:\n",
    "            continue\n",
    "\n",
    "    return selected_stocks, ticker_list\n",
    "\n",
    "\n",
    "\n",
    "\n",
    "\n",
    "def get_close_prices(ticker_list, period = 2, start = '2022-01-01'):\n",
    "    \n",
    "    date_obj = datetime.strptime(start, '%Y-%m-%d')\n",
    "    end = date_obj + relativedelta(years=period)\n",
    "    enddate = end.strftime('%Y-%m-%d')\n",
    "\n",
    "    df = yf.download(ticker_list, start=start, end=enddate)\n",
    "    df_close = df['Close']\n",
    "\n",
    "    df_return = df_close.dropna(how='all').copy()\n",
    "\n",
    "    #Drop tickers that have more that 10% missing data\n",
    "    df_return = df_return.drop(columns=df_return.columns[df_return.isna().mean() >= 0.1])\n",
    "        \n",
    "    #Impute missing data with the previous price (for eu and asia mostly)\n",
    "    df_cleaned = df_return.ffill().copy()\n",
    "\n",
    "    \n",
    "    return df_cleaned"
   ]
  },
  {
   "cell_type": "code",
   "execution_count": 90,
   "metadata": {},
   "outputs": [
    {
     "name": "stdout",
     "output_type": "stream",
     "text": [
      "Extracting from NMS\n",
      "YES\n"
     ]
    },
    {
     "name": "stderr",
     "output_type": "stream",
     "text": [
      "[*********************100%***********************]  50 of 50 completed\n",
      "\n",
      "1 Failed download:\n",
      "['KSPI']: YFPricesMissingError('possibly delisted; no price data found  (1d 2022-01-01 -> 2024-01-01) (Yahoo error = \"Data doesn\\'t exist for startDate = 1641013200, endDate = 1704085200\")')\n",
      "[                       0%                       ]"
     ]
    },
    {
     "name": "stdout",
     "output_type": "stream",
     "text": [
      "Extracting from NYQ\n",
      "YES\n"
     ]
    },
    {
     "name": "stderr",
     "output_type": "stream",
     "text": [
      "[*********************100%***********************]  50 of 50 completed\n"
     ]
    },
    {
     "name": "stdout",
     "output_type": "stream",
     "text": [
      "Extracting from NGM\n",
      "YES\n"
     ]
    },
    {
     "name": "stderr",
     "output_type": "stream",
     "text": [
      "[*********************100%***********************]  50 of 50 completed\n",
      "\n",
      "1 Failed download:\n",
      "['DJTWW']: YFPricesMissingError('possibly delisted; no price data found  (1d 2022-01-01 -> 2024-01-01) (Yahoo error = \"Data doesn\\'t exist for startDate = 1641013200, endDate = 1704085200\")')\n",
      "[                       0%                       ]"
     ]
    },
    {
     "name": "stdout",
     "output_type": "stream",
     "text": [
      "Extracting from PAR\n",
      "YES\n"
     ]
    },
    {
     "name": "stderr",
     "output_type": "stream",
     "text": [
      "[*********************100%***********************]  50 of 50 completed\n",
      "\n",
      "6 Failed downloads:\n",
      "['ACALM.PA', 'ACALG.PA', 'ACAKQ.PA', 'ACALV.PA', 'CNPAP.PA', 'ACAKN.PA']: YFPricesMissingError('possibly delisted; no price data found  (1d 2022-01-01 -> 2024-01-01)')\n"
     ]
    },
    {
     "name": "stdout",
     "output_type": "stream",
     "text": [
      "Extracting from FRA\n",
      "YES\n"
     ]
    },
    {
     "name": "stderr",
     "output_type": "stream",
     "text": [
      "[*********************100%***********************]  50 of 50 completed\n",
      "\n",
      "2 Failed downloads:\n",
      "['D7G.F', 'I41.F']: YFPricesMissingError('possibly delisted; no price data found  (1d 2022-01-01 -> 2024-01-01) (Yahoo error = \"Data doesn\\'t exist for startDate = 1640991600, endDate = 1704063600\")')\n",
      "[**                     4%                       ]  2 of 50 completed"
     ]
    },
    {
     "name": "stdout",
     "output_type": "stream",
     "text": [
      "Extracting from LSE\n",
      "YES\n"
     ]
    },
    {
     "name": "stderr",
     "output_type": "stream",
     "text": [
      "[*********************100%***********************]  50 of 50 completed\n",
      "\n",
      "2 Failed downloads:\n",
      "['0R15.L', 'AHT.L']: YFPricesMissingError('possibly delisted; no price data found  (1d 2022-01-01 -> 2024-01-01)')\n",
      "[***                    6%                       ]  3 of 50 completed"
     ]
    },
    {
     "name": "stdout",
     "output_type": "stream",
     "text": [
      "Extracting from AMS\n",
      "YES\n"
     ]
    },
    {
     "name": "stderr",
     "output_type": "stream",
     "text": [
      "[*********************100%***********************]  49 of 50 completed\n",
      "\n",
      "9 Failed downloads:\n",
      "[*********************100%***********************]  49 of 50 completed['NL0000116168.AS', 'NL0015000QL2.AS', 'NL0000116150.AS', 'NL0000120004.AS', 'NL0010071189.AS', 'NL0011819040.AS']: YFPricesMissingError('possibly delisted; no price data found  (1d 2022-01-01 -> 2024-01-01)')\n",
      "['CVC.AS', 'HAVAS.AS', 'THEON.AS']: YFPricesMissingError('possibly delisted; no price data found  (1d 2022-01-01 -> 2024-01-01) (Yahoo error = \"Data doesn\\'t exist for startDate = 1640991600, endDate = 1704063600\")')\n"
     ]
    },
    {
     "name": "stdout",
     "output_type": "stream",
     "text": [
      "Extracting from SHH\n",
      "YES\n"
     ]
    },
    {
     "name": "stderr",
     "output_type": "stream",
     "text": [
      "[*********************100%***********************]  50 of 50 completed\n",
      "[**                     4%                       ]  2 of 50 completed"
     ]
    },
    {
     "name": "stdout",
     "output_type": "stream",
     "text": [
      "Extracting from JPX\n",
      "YES\n"
     ]
    },
    {
     "name": "stderr",
     "output_type": "stream",
     "text": [
      "[*********************100%***********************]  50 of 50 completed\n",
      "[                       0%                       ]"
     ]
    },
    {
     "name": "stdout",
     "output_type": "stream",
     "text": [
      "Extracting from HKG\n",
      "YES\n"
     ]
    },
    {
     "name": "stderr",
     "output_type": "stream",
     "text": [
      "[*********************100%***********************]  50 of 50 completed\n",
      "\n",
      "2 Failed downloads:\n",
      "['0300.HK', '6936.HK']: YFPricesMissingError('possibly delisted; no price data found  (1d 2022-01-01 -> 2024-01-01) (Yahoo error = \"Data doesn\\'t exist for startDate = 1640966400, endDate = 1704038400\")')\n"
     ]
    }
   ],
   "source": [
    "us_exchanges = ['NMS', 'NYQ', 'NGM']\n",
    "eu_exchanges = ['PAR', 'FRA', 'LSE', 'AMS']\n",
    "asia_exchanges = ['SHH', 'JPX', 'HKG']\n",
    "\n",
    "selected_exchanges = us_exchanges + eu_exchanges + asia_exchanges\n",
    "\n",
    "df_all = pd.DataFrame()\n",
    "for exchange in selected_exchanges:\n",
    "    print(f'Extracting from {exchange}')\n",
    "    exchanges = [exchange]\n",
    "    selected_stocks_dict, ticker_list = get_tickers_stocks(50000, exchanges, 50)\n",
    "\n",
    "    if len(ticker_list) > 0: \n",
    "        print('YES')\n",
    "        df = get_close_prices(ticker_list, period = 2, start = '2022-01-01')\n",
    "        df_all = pd.concat([df_all, df], axis=1)\n",
    "\n",
    "df_all = df_all.ffill() #ffill again after concatenating the tickers"
   ]
  },
  {
   "cell_type": "code",
   "execution_count": null,
   "metadata": {},
   "outputs": [],
   "source": [
    "df_all"
   ]
  }
 ],
 "metadata": {
  "kernelspec": {
   "display_name": "venv",
   "language": "python",
   "name": "python3"
  },
  "language_info": {
   "codemirror_mode": {
    "name": "ipython",
    "version": 3
   },
   "file_extension": ".py",
   "mimetype": "text/x-python",
   "name": "python",
   "nbconvert_exporter": "python",
   "pygments_lexer": "ipython3",
   "version": "3.13.2"
  }
 },
 "nbformat": 4,
 "nbformat_minor": 2
}
