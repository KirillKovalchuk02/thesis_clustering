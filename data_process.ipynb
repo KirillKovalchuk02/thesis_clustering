{
 "cells": [
  {
   "cell_type": "code",
   "execution_count": 1,
   "metadata": {},
   "outputs": [
    {
     "name": "stderr",
     "output_type": "stream",
     "text": [
      "c:\\Users\\Kirill\\Documents\\Projects\\thesis\\venv312\\Lib\\site-packages\\tslearn\\bases\\bases.py:15: UserWarning: h5py not installed, hdf5 features will not be supported.\n",
      "Install h5py to use hdf5 features: http://docs.h5py.org/\n",
      "  warn(h5py_msg)\n"
     ]
    }
   ],
   "source": [
    "import pandas as pd\n",
    "import random \n",
    "import itertools\n",
    "import json\n",
    "\n",
    "pd.set_option('display.max_rows', 50)\n",
    "\n",
    "\n",
    "from functions import sharpe_ratio_calculation, generate_rand_portfolios, select_top_five, join_stocks_crypto, dtw_matrix_calc, run_min_variance, run_clustering_model, test_for_silhouette_score"
   ]
  },
  {
   "cell_type": "code",
   "execution_count": 2,
   "metadata": {},
   "outputs": [],
   "source": [
    "df_all_stocks = pd.read_csv('stocks_data.csv',index_col='Date')\n",
    "cryptos_df = pd.read_csv('cryptos_data.csv', index_col='Date')\n",
    "\n",
    "joined_df = join_stocks_crypto(cryptos_df, df_all_stocks, mode = 'crypto_left') #mode - either do left with crypto and fill NA for stocks or do left on stocks and leave out some dates"
   ]
  },
  {
   "cell_type": "code",
   "execution_count": 3,
   "metadata": {},
   "outputs": [],
   "source": [
    "#Random Portfolios generation\n",
    "tickers = list(df_all_stocks.columns)\n",
    "\n",
    "random.seed(42)\n",
    "random_portfolios = generate_rand_portfolios(n_reps=1000, n_stocks=15, tickers=tickers)"
   ]
  },
  {
   "cell_type": "code",
   "execution_count": 4,
   "metadata": {},
   "outputs": [],
   "source": [
    "#Select top five sharpe ratio portfolios from a portfolio\n",
    "sharpe_ratio = sharpe_ratio_calculation(df_all_stocks, rf_rate_annual = 0.02)\n",
    "top_five_dict = select_top_five(random_portfolios, metric=sharpe_ratio)"
   ]
  },
  {
   "cell_type": "code",
   "execution_count": 5,
   "metadata": {},
   "outputs": [],
   "source": [
    "# for i in range(31, 100):\n",
    "\n",
    "#     print('Doing', i)\n",
    "\n",
    "#     top_five_sets = dict(itertools.islice(top_five_dict.items(), i, i+1))\n",
    "#     results = run_min_variance(df_all_stocks, top_five_sets) \n",
    "#     with open(f\"min_variance_portfolio_jsons/my_dict{i}.json\", \"w\") as f:\n",
    "#         json.dump(results, f, indent=4)"
   ]
  },
  {
   "cell_type": "code",
   "execution_count": null,
   "metadata": {},
   "outputs": [
    {
     "ename": "AttributeError",
     "evalue": "'TimeSeriesKMeans' object has no attribute 'cost_'",
     "output_type": "error",
     "traceback": [
      "\u001b[31m---------------------------------------------------------------------------\u001b[39m",
      "\u001b[31mAttributeError\u001b[39m                            Traceback (most recent call last)",
      "\u001b[36mCell\u001b[39m\u001b[36m \u001b[39m\u001b[32mIn[6]\u001b[39m\u001b[32m, line 3\u001b[39m\n\u001b[32m      1\u001b[39m \u001b[38;5;66;03m# dtw_matrix = dtw_matrix_calc(joined_df)\u001b[39;00m\n\u001b[32m----> \u001b[39m\u001b[32m3\u001b[39m labels_kmeans, t, cost_kmeans = \u001b[43mrun_clustering_model\u001b[49m\u001b[43m(\u001b[49m\u001b[43mjoined_df\u001b[49m\u001b[43m,\u001b[49m\u001b[43m \u001b[49m\u001b[43mn_clus\u001b[49m\u001b[43m=\u001b[49m\u001b[32;43m3\u001b[39;49m\u001b[43m,\u001b[49m\u001b[43m \u001b[49m\u001b[43mmodel_name\u001b[49m\u001b[43m=\u001b[49m\u001b[33;43m'\u001b[39;49m\u001b[33;43mkmeans\u001b[39;49m\u001b[33;43m'\u001b[39;49m\u001b[43m)\u001b[49m\n\u001b[32m      4\u001b[39m \u001b[38;5;28mprint\u001b[39m(\u001b[33mf\u001b[39m\u001b[33m'\u001b[39m\u001b[33mcost for kmeans: \u001b[39m\u001b[38;5;132;01m{\u001b[39;00mcost_kmeans\u001b[38;5;132;01m}\u001b[39;00m\u001b[33m'\u001b[39m)\n\u001b[32m      6\u001b[39m \u001b[38;5;66;03m# labels_kshape = run_clustering_model(joined_df, n_clus=3, model_name='kshape')\u001b[39;00m\n\u001b[32m      7\u001b[39m \n\u001b[32m      8\u001b[39m \u001b[38;5;66;03m# labels_ahc = run_clustering_model(joined_df, n_clus=3, model_name='ahc', linkage='single')\u001b[39;00m\n",
      "\u001b[36mFile \u001b[39m\u001b[32mc:\\Users\\Kirill\\Documents\\Projects\\thesis\\functions.py:272\u001b[39m, in \u001b[36mrun_clustering_model\u001b[39m\u001b[34m(df, n_clus, model_name, linkage)\u001b[39m\n\u001b[32m    268\u001b[39m     labels = model.fit_predict(data_scaled)\n\u001b[32m    270\u001b[39m tickers_with_labels = {k: \u001b[38;5;28mint\u001b[39m(v) \u001b[38;5;28;01mfor\u001b[39;00m k, v \u001b[38;5;129;01min\u001b[39;00m \u001b[38;5;28mzip\u001b[39m(tickers, labels)}\n\u001b[32m--> \u001b[39m\u001b[32m272\u001b[39m cost_output = \u001b[43mmodel\u001b[49m\u001b[43m.\u001b[49m\u001b[43mcost_\u001b[49m\n\u001b[32m    275\u001b[39m \u001b[38;5;28;01mreturn\u001b[39;00m labels, tickers_with_labels, cost_output\n",
      "\u001b[31mAttributeError\u001b[39m: 'TimeSeriesKMeans' object has no attribute 'cost_'"
     ]
    }
   ],
   "source": [
    "# dtw_matrix = dtw_matrix_calc(joined_df)\n",
    "\n",
    "# labels_kmeans, t = run_clustering_model(joined_df, n_clus=3, model_name='kmeans')\n",
    "\n",
    "\n",
    "# labels_kshape = run_clustering_model(joined_df, n_clus=3, model_name='kshape')\n",
    "\n",
    "# labels_ahc = run_clustering_model(joined_df, n_clus=3, model_name='ahc', linkage='single')"
   ]
  },
  {
   "cell_type": "code",
   "execution_count": null,
   "metadata": {},
   "outputs": [
    {
     "name": "stderr",
     "output_type": "stream",
     "text": [
      "c:\\Users\\Kirill\\Documents\\Projects\\thesis\\venv312\\Lib\\site-packages\\sklearn\\utils\\deprecation.py:151: FutureWarning: 'force_all_finite' was renamed to 'ensure_all_finite' in 1.6 and will be removed in 1.8.\n",
      "  warnings.warn(\n",
      "c:\\Users\\Kirill\\Documents\\Projects\\thesis\\venv312\\Lib\\site-packages\\sklearn\\utils\\deprecation.py:151: FutureWarning: 'force_all_finite' was renamed to 'ensure_all_finite' in 1.6 and will be removed in 1.8.\n",
      "  warnings.warn(\n"
     ]
    }
   ],
   "source": [
    "n_clusters_list = [3,5,7,10]\n",
    "silhouette_df = test_for_silhouette_score(df_all_stocks, n_clusters_list, method='ahc', linkage_list=['single', 'average'])\n",
    "silhouette_df"
   ]
  },
  {
   "cell_type": "code",
   "execution_count": 8,
   "metadata": {},
   "outputs": [
    {
     "ename": "ModuleNotFoundError",
     "evalue": "No module named 'matplotlib'",
     "output_type": "error",
     "traceback": [
      "\u001b[31m---------------------------------------------------------------------------\u001b[39m",
      "\u001b[31mModuleNotFoundError\u001b[39m                       Traceback (most recent call last)",
      "\u001b[36mCell\u001b[39m\u001b[36m \u001b[39m\u001b[32mIn[8]\u001b[39m\u001b[32m, line 1\u001b[39m\n\u001b[32m----> \u001b[39m\u001b[32m1\u001b[39m \u001b[38;5;28;01mimport\u001b[39;00m\u001b[38;5;250m \u001b[39m\u001b[34;01mmatplotlib\u001b[39;00m\u001b[34;01m.\u001b[39;00m\u001b[34;01mpyplot\u001b[39;00m\u001b[38;5;250m \u001b[39m\u001b[38;5;28;01mas\u001b[39;00m\u001b[38;5;250m \u001b[39m\u001b[34;01mplt\u001b[39;00m\n\u001b[32m      3\u001b[39m silhouette_df\n\u001b[32m      5\u001b[39m \u001b[38;5;66;03m# Plotting\u001b[39;00m\n",
      "\u001b[31mModuleNotFoundError\u001b[39m: No module named 'matplotlib'"
     ]
    }
   ],
   "source": [
    "import matplotlib.pyplot as plt\n",
    "\n",
    "silhouette_df\n",
    "\n",
    "# Plotting\n",
    "plt.figure(figsize=(8, 5))\n",
    "plt.plot(range(2, 10), silhouette_df, marker='o')\n",
    "plt.xlabel(\"Number of clusters (k)\")\n",
    "plt.ylabel(\"Silhouette Score\")\n",
    "plt.title(\"Silhouette Scores vs. Number of Clusters (Elbow Method)\")\n",
    "plt.grid(True)\n",
    "plt.show()"
   ]
  },
  {
   "cell_type": "code",
   "execution_count": null,
   "metadata": {},
   "outputs": [],
   "source": []
  }
 ],
 "metadata": {
  "kernelspec": {
   "display_name": "venv312",
   "language": "python",
   "name": "python3"
  },
  "language_info": {
   "codemirror_mode": {
    "name": "ipython",
    "version": 3
   },
   "file_extension": ".py",
   "mimetype": "text/x-python",
   "name": "python",
   "nbconvert_exporter": "python",
   "pygments_lexer": "ipython3",
   "version": "3.12.10"
  }
 },
 "nbformat": 4,
 "nbformat_minor": 2
}
