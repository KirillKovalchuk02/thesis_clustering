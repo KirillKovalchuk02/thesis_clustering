{
 "cells": [
  {
   "cell_type": "code",
   "execution_count": 1,
   "id": "0b5f93a7",
   "metadata": {},
   "outputs": [
    {
     "name": "stderr",
     "output_type": "stream",
     "text": [
      "c:\\Users\\Kirill\\Documents\\Projects\\thesis\\venv312\\Lib\\site-packages\\tslearn\\bases\\bases.py:15: UserWarning: h5py not installed, hdf5 features will not be supported.\n",
      "Install h5py to use hdf5 features: http://docs.h5py.org/\n",
      "  warn(h5py_msg)\n"
     ]
    }
   ],
   "source": [
    "import pandas as pd\n",
    "import numpy as np\n",
    "import yfinance as yf\n",
    "import json\n",
    "import matplotlib.pyplot as plt\n",
    "import seaborn as sns\n",
    "\n",
    "from sklearn.metrics import v_measure_score\n",
    "\n",
    "from functions import join_stocks_crypto, run_clustering_model"
   ]
  },
  {
   "cell_type": "code",
   "execution_count": 2,
   "id": "f62f3df6",
   "metadata": {},
   "outputs": [],
   "source": [
    "#Find stocks with over the top volatility\n",
    "df_all_stocks = pd.read_csv('stocks_data_FINAL.csv',index_col='Date')\n",
    "df_all_stocks.index = pd.to_datetime(df_all_stocks.index)\n",
    "df_all_stocks.index = df_all_stocks.index.strftime('%Y-%m-%d')\n",
    "\n",
    "\n",
    "cryptos_df = pd.read_csv('cryptos_data_new.csv', index_col='timestamp')\n",
    "joined_df = join_stocks_crypto(cryptos_df, df_all_stocks, mode = 'stocks_left')\n",
    "joined_df.index = pd.to_datetime(joined_df.index)\n",
    "\n",
    "cryptos_list = list(cryptos_df.columns)\n",
    "\n",
    "joined_df_weekly = joined_df.resample('W').last() #aggregating on a weekly level\n",
    "joined_df_3days = joined_df.resample('3D').last()# aggregating on a twice per week basis to arrive at the sweet spot of that 250 (1 year) timeseries length\n",
    "\n",
    "# log_returns = np.log(df_all_stocks / df_all_stocks.shift(1)).dropna()\n",
    "# daily_volatility = log_returns.std()\n",
    "# annual_volatility = daily_volatility * np.sqrt(252)\n",
    "\n",
    "# annual_volatility.sort_values().tail(20)\n",
    "\n",
    "\n",
    "\n",
    "# to_drop = ['XSP.F', 'C0V.F', 'OL5.F', 'SMMT', 'H2Y.F', 'GLY.F', 'LPS1.F', 'KO32.F']\n",
    "# df_all_stocks = df_all_stocks.drop(columns = to_drop)\n",
    "# df_all_stocks = df_all_stocks.bfill()\n",
    "# df_all_stocks.to_csv('stocks_data_FINAL.csv')\n"
   ]
  },
  {
   "cell_type": "markdown",
   "id": "961d7638",
   "metadata": {},
   "source": [
    "CLUSTERING INSIGHTS"
   ]
  },
  {
   "cell_type": "code",
   "execution_count": 3,
   "id": "a9a3e4e4",
   "metadata": {},
   "outputs": [],
   "source": [
    "# map_region_to_country = {'cn_market': 'asia',\n",
    "#  'crypto': 'crypto',\n",
    "#  'dr_market': 'eu',\n",
    "#  'fr_market': 'eu',\n",
    "#  'gb_market': 'eu',\n",
    "#  'hk_market': 'asia',\n",
    "#  'jp_market': 'asia',\n",
    "#  'nl_market': 'eu',\n",
    "#  'us_market': 'us'}\n",
    "\n",
    "# yf_style_crypto_tickers = [ticker.replace('USDT', '-USD') for ticker in cryptos_df.columns]\n",
    "\n",
    "# df_all_stocks = pd.read_csv('stocks_data_FINAL.csv',index_col='Date')\n",
    "# cryptos_df = pd.read_csv('cryptos_data_new.csv', index_col='timestamp')\n",
    "# tickers_all = list(df_all_stocks.columns) + list(cryptos_df.columns) \n",
    "\n",
    "# exchanges_dict = dict()\n",
    "# sector_dict = dict()\n",
    "# market_dict = dict()\n",
    "# region_dict = dict()\n",
    "# for ticker in tickers_all:\n",
    "#     dat = yf.Ticker(ticker)\n",
    "#     if ticker in list(cryptos_df.columns):\n",
    "#         exchanges_dict[ticker] = 'crypto'\n",
    "#         sector_dict[ticker] = 'crypto'\n",
    "#         market_dict[ticker] = 'crypto'\n",
    "#         region_dict[ticker] = 'crypto'\n",
    "#     else:\n",
    "#         exchange = dat.info['exchange']\n",
    "#         sector = dat.info['sectorKey']\n",
    "#         market = dat.info['market']\n",
    "\n",
    "#         exchanges_dict[ticker] = exchange\n",
    "#         sector_dict[ticker] = sector\n",
    "#         market_dict[ticker] = market\n",
    "#         region_dict[ticker] = map_region_to_country[market]\n",
    " \n",
    "\n",
    "# with open('tickers_with_exchanges.json', 'w') as fp:\n",
    "#     json.dump(exchanges_dict, fp)\n",
    "\n",
    "# with open('tickers_with_sectors.json', 'w') as fp:\n",
    "#     json.dump(sector_dict, fp)\n",
    "\n",
    "# with open('tickers_with_market.json', 'w') as fp:\n",
    "#     json.dump(market_dict, fp)\n",
    "\n",
    "# with open('tickers_with_region.json', 'w') as fp:\n",
    "#     json.dump(region_dict, fp)"
   ]
  },
  {
   "cell_type": "code",
   "execution_count": 4,
   "id": "1e3383df",
   "metadata": {},
   "outputs": [],
   "source": [
    "cluster_labels = dict()\n",
    "for method in ['kshape']:#['ahc', 'kmeans', 'kshape']:\n",
    "    with open(f'tickers_labels_{method}_final.json') as f:\n",
    "        clusters = json.load(f)\n",
    "        cluster_labels[method] = clusters\n",
    "\n",
    "\n",
    "with open('tickers_with_exchanges.json') as f:\n",
    "    exchanges_dict = json.load(f)\n",
    "\n",
    "with open('tickers_with_sectors.json') as f:\n",
    "    sector_dict = json.load(f)\n",
    "\n",
    "with open('tickers_with_region.json') as f:\n",
    "    region_dict = json.load(f)\n",
    "\n",
    "with open('tickers_with_market.json') as f:\n",
    "    market_dict = json.load(f)"
   ]
  },
  {
   "cell_type": "code",
   "execution_count": 24,
   "id": "0665093c",
   "metadata": {},
   "outputs": [],
   "source": [
    "df = joined_df_3days.rolling(window=1, center=False).mean()\n",
    "labels, tickers_with_labels_kshape, _, _ = run_clustering_model(df, n_clus=9, model_name='kshape', linkage=None, return_mode='geometric', n_init=3)\n",
    "\n",
    "cluster_labels['kshape'] = tickers_with_labels_kshape"
   ]
  },
  {
   "cell_type": "code",
   "execution_count": 12,
   "id": "75544d4d",
   "metadata": {},
   "outputs": [],
   "source": [
    "def visualise_cryptos_in_clusters(ticker_to_class:dict, ticker_to_cluster_all, method, just_cryptos=True, heatmap=False, file_name='NO_NAME', class_name='NO_CLASS_NAME'):\n",
    "    df = pd.DataFrame({\n",
    "    'Ticker': list(ticker_to_class.keys()),\n",
    "    'CLASS': [ticker_to_class[t] for t in ticker_to_class],\n",
    "    'Cluster': [ticker_to_cluster_all[method][t] for t in ticker_to_class]\n",
    "    })\n",
    "\n",
    "    if just_cryptos:\n",
    "        df = df[df['CLASS'] == 'crypto']\n",
    "\n",
    "    pivot = df.groupby(['Cluster', 'CLASS']).size().unstack(fill_value=0)\n",
    "    \n",
    "    if heatmap:\n",
    "        sns.heatmap(pivot, annot=True, fmt='d', cmap='YlGnBu')\n",
    "        plt.title('Heatmap of CLASSES per Cluster')\n",
    "        plt.xlabel('CLASS')\n",
    "        plt.ylabel('Cluster')\n",
    "        plt.tight_layout()\n",
    "    \n",
    "    else:\n",
    "        pivot.plot(kind='bar', stacked=True, colormap='tab20')\n",
    "        plt.title(f'{class_name} Distribution by Cluster')\n",
    "        plt.xlabel('Cluster')\n",
    "        plt.ylabel('Number of Tickers')\n",
    "        plt.xticks(rotation=0)\n",
    "        plt.legend(title='CLASS')\n",
    "        plt.tight_layout()\n",
    "    \n",
    "    plt.legend(loc='upper left', bbox_to_anchor=(1.0, 1.0))\n",
    "\n",
    "    plt.savefig(f\"visuals/{file_name}_{class_name}.png\", dpi=300, bbox_inches='tight')\n",
    "    plt.show()"
   ]
  },
  {
   "cell_type": "code",
   "execution_count": 9,
   "id": "655fdbc5",
   "metadata": {},
   "outputs": [],
   "source": [
    "#visualise_cryptos_in_clusters(market_dict, cluster_labels, 'kshape', just_cryptos=True, heatmap=False)"
   ]
  },
  {
   "cell_type": "code",
   "execution_count": 26,
   "id": "fc4a1a9c",
   "metadata": {},
   "outputs": [
    {
     "data": {
      "image/png": "[encoded data removed]",
      "text/plain": [
       "<Figure size 640x480 with 1 Axes>"
      ]
     },
     "metadata": {},
     "output_type": "display_data"
    }
   ],
   "source": [
    "visualise_cryptos_in_clusters(region_dict, cluster_labels, 'kshape', just_cryptos=False, heatmap=False, file_name='full_clustering_market', class_name='region')"
   ]
  },
  {
   "cell_type": "code",
   "execution_count": null,
   "id": "63f9475a",
   "metadata": {},
   "outputs": [],
   "source": []
  },
  {
   "cell_type": "code",
   "execution_count": 25,
   "id": "b89f9935",
   "metadata": {},
   "outputs": [
    {
     "data": {
      "text/plain": [
       "[3,\n",
       " 3,\n",
       " 3,\n",
       " 3,\n",
       " 3,\n",
       " 3,\n",
       " 3,\n",
       " 3,\n",
       " 3,\n",
       " 3,\n",
       " 3,\n",
       " 3,\n",
       " 3,\n",
       " 3,\n",
       " 3,\n",
       " 3,\n",
       " 3,\n",
       " 3,\n",
       " 3,\n",
       " 3,\n",
       " 3,\n",
       " 3,\n",
       " 3,\n",
       " 3,\n",
       " 3,\n",
       " 3,\n",
       " 3,\n",
       " 3,\n",
       " 3,\n",
       " 3,\n",
       " 3,\n",
       " 3,\n",
       " 3,\n",
       " 3,\n",
       " 3,\n",
       " 3,\n",
       " 3,\n",
       " 3,\n",
       " 3,\n",
       " 3,\n",
       " 3]"
      ]
     },
     "execution_count": 25,
     "metadata": {},
     "output_type": "execute_result"
    }
   ],
   "source": [
    "[v for k, v in cluster_labels['kshape'].items() if 'USDT' in k]"
   ]
  },
  {
   "cell_type": "code",
   "execution_count": 30,
   "id": "42b2c6de",
   "metadata": {},
   "outputs": [
    {
     "data": {
      "text/plain": [
       "['SAN.PA',\n",
       " 'BTCUSDT',\n",
       " 'ETHUSDT',\n",
       " 'XRPUSDT',\n",
       " 'SOLUSDT',\n",
       " 'DOGEUSDT',\n",
       " 'ADAUSDT',\n",
       " 'LINKUSDT',\n",
       " 'XLMUSDT',\n",
       " 'AVAXUSDT',\n",
       " 'SHIBUSDT',\n",
       " 'DOTUSDT',\n",
       " 'LTCUSDT',\n",
       " 'BCHUSDT',\n",
       " 'UNIUSDT',\n",
       " 'NEARUSDT',\n",
       " 'ICPUSDT',\n",
       " 'ETCUSDT',\n",
       " 'AAVEUSDT',\n",
       " 'RNDRUSDT',\n",
       " 'ATOMUSDT',\n",
       " 'MATICUSDT',\n",
       " 'ALGOUSDT',\n",
       " 'EOSUSDT',\n",
       " 'MKRUSDT',\n",
       " 'QNTUSDT',\n",
       " 'STXUSDT',\n",
       " 'INJUSDT',\n",
       " 'GRTUSDT',\n",
       " 'XTZUSDT',\n",
       " 'CRVUSDT',\n",
       " 'SANDUSDT',\n",
       " 'ZECUSDT',\n",
       " 'JASMYUSDT',\n",
       " 'MANAUSDT',\n",
       " 'AXSUSDT',\n",
       " 'CHZUSDT',\n",
       " 'COMPUSDT',\n",
       " '1INCHUSDT',\n",
       " 'SNXUSDT',\n",
       " 'ROSEUSDT',\n",
       " 'LPTUSDT']"
      ]
     },
     "execution_count": 30,
     "metadata": {},
     "output_type": "execute_result"
    }
   ],
   "source": [
    "[k for k, v in cluster_labels['kshape'].items() if v == 3]"
   ]
  },
  {
   "cell_type": "code",
   "execution_count": null,
   "id": "78496cf6",
   "metadata": {},
   "outputs": [],
   "source": []
  },
  {
   "cell_type": "code",
   "execution_count": null,
   "id": "20070a65",
   "metadata": {},
   "outputs": [],
   "source": [
    "def clustering_v_measure(cluster_dict:dict, class_dict:dict, method:str):\n",
    "    methods_clusters = cluster_dict[method]\n",
    "\n",
    "    common = list(set(methods_clusters) & set(class_dict))\n",
    "\n",
    "    if not common:\n",
    "        raise ValueError(\"No overlapping tickers between clustering and class dictionaries.\")\n",
    "\n",
    "    cluster_labels = [methods_clusters[t] for t in common]\n",
    "    true_labels = [class_dict[t] for t in common]\n",
    "\n",
    "    v_measure = v_measure_score(true_labels, cluster_labels)\n",
    "    \n",
    "    return v_measure"
   ]
  },
  {
   "cell_type": "code",
   "execution_count": null,
   "id": "630975a6",
   "metadata": {},
   "outputs": [],
   "source": []
  },
  {
   "cell_type": "code",
   "execution_count": null,
   "id": "c94d8e7f",
   "metadata": {},
   "outputs": [],
   "source": []
  },
  {
   "cell_type": "code",
   "execution_count": null,
   "id": "8baf76ae",
   "metadata": {},
   "outputs": [],
   "source": []
  },
  {
   "cell_type": "code",
   "execution_count": null,
   "id": "941ebb45",
   "metadata": {},
   "outputs": [],
   "source": []
  }
 ],
 "metadata": {
  "kernelspec": {
   "display_name": "venv312",
   "language": "python",
   "name": "python3"
  },
  "language_info": {
   "codemirror_mode": {
    "name": "ipython",
    "version": 3
   },
   "file_extension": ".py",
   "mimetype": "text/x-python",
   "name": "python",
   "nbconvert_exporter": "python",
   "pygments_lexer": "ipython3",
   "version": "3.12.10"
  }
 },
 "nbformat": 4,
 "nbformat_minor": 5
}
