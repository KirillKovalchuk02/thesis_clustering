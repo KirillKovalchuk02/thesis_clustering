{
 "cells": [
  {
   "cell_type": "code",
   "execution_count": 1,
   "id": "0b5f93a7",
   "metadata": {},
   "outputs": [
    {
     "name": "stderr",
     "output_type": "stream",
     "text": [
      "c:\\Users\\Kirill\\Documents\\Projects\\thesis\\venv312\\Lib\\site-packages\\tslearn\\bases\\bases.py:15: UserWarning: h5py not installed, hdf5 features will not be supported.\n",
      "Install h5py to use hdf5 features: http://docs.h5py.org/\n",
      "  warn(h5py_msg)\n"
     ]
    }
   ],
   "source": [
    "import pandas as pd\n",
    "\n",
    "from functions import join_stocks_crypto, run_clustering_model"
   ]
  },
  {
   "cell_type": "code",
   "execution_count": 2,
   "id": "f7d1551a",
   "metadata": {},
   "outputs": [],
   "source": [
    "kshape_results = pd.read_csv('new_balance_silhouette/kshape.csv')\n",
    "results = kshape_results"
   ]
  },
  {
   "cell_type": "code",
   "execution_count": 3,
   "id": "0c6095e3",
   "metadata": {},
   "outputs": [],
   "source": [
    "from sklearn.preprocessing import MinMaxScaler\n",
    "results[['silhouette_norm']] = MinMaxScaler().fit_transform(results[['silhouette_score']])\n",
    "results['delta_norm'] = 1 - MinMaxScaler().fit_transform(results[['min_max_delta']])\n",
    "results['total_score'] = (results['silhouette_norm'] + results['delta_norm']) / 2\n",
    "\n",
    "best_configs = results.loc[results.groupby('method')['total_score'].idxmax()]\n"
   ]
  },
  {
   "cell_type": "code",
   "execution_count": 4,
   "id": "f62f3df6",
   "metadata": {},
   "outputs": [
    {
     "name": "stderr",
     "output_type": "stream",
     "text": [
      "c:\\Users\\Kirill\\Documents\\Projects\\thesis\\venv312\\Lib\\site-packages\\pandas\\core\\internals\\blocks.py:393: RuntimeWarning: invalid value encountered in log\n",
      "  result = func(self.values, **kwargs)\n"
     ]
    },
    {
     "data": {
      "text/plain": [
       "PRCT      0.692412\n",
       "TTD       0.708151\n",
       "3YU.F     0.747658\n",
       "MDB       0.755362\n",
       "SITM      0.765612\n",
       "RNA       0.797502\n",
       "AXSM      0.814172\n",
       "DJT       0.901152\n",
       "TBA.F     0.916075\n",
       "ECX       0.923325\n",
       "RYTM      0.941110\n",
       "OL5.F     1.315230\n",
       "SMMT      1.362448\n",
       "4AH1.F    1.370364\n",
       "2B5.F     1.385327\n",
       "PJXC.F    1.894676\n",
       "LPS1.F    3.012170\n",
       "WK0.F     3.041260\n",
       "0DH.F     4.547030\n",
       "LFU2.F    4.970240\n",
       "dtype: float64"
      ]
     },
     "execution_count": 4,
     "metadata": {},
     "output_type": "execute_result"
    }
   ],
   "source": [
    "import numpy as np\n",
    "\n",
    "df_all_stocks = pd.read_csv('stocks_data_filled.csv',index_col='Date')\n",
    "cryptos_df = pd.read_csv('cryptos_data_new.csv', index_col='timestamp')\n",
    "joined_df = join_stocks_crypto(cryptos_df, df_all_stocks, mode = 'stocks_left')\n",
    "\n",
    "cryptos_list = list(cryptos_df.columns)\n",
    "\n",
    "\n",
    "log_returns = np.log(df_all_stocks / df_all_stocks.shift(1)).dropna()\n",
    "daily_volatility = log_returns.std()\n",
    "annual_volatility = daily_volatility * np.sqrt(252)\n",
    "\n",
    "annual_volatility.sort_values().tail(20)"
   ]
  },
  {
   "cell_type": "code",
   "execution_count": 5,
   "id": "b49cd80a",
   "metadata": {},
   "outputs": [],
   "source": [
    "df_all_stocks = df_all_stocks.drop(columns=['OL5.F', 'SMMT', '4AH1.F', '2B5.F', 'PJXC.F', 'LPS1.F', 'WK0.F', '0DH.F', 'LFU2.F'])\n",
    "\n",
    "df_all_stocks.to_csv('stocks_data_filtered_volatility.csv')\n",
    "\n",
    "tickers = list(df_all_stocks.columns)"
   ]
  },
  {
   "cell_type": "code",
   "execution_count": null,
   "id": "109c26f6",
   "metadata": {},
   "outputs": [],
   "source": []
  },
  {
   "cell_type": "code",
   "execution_count": null,
   "id": "1470e26c",
   "metadata": {},
   "outputs": [],
   "source": []
  },
  {
   "cell_type": "code",
   "execution_count": 6,
   "id": "1081c479",
   "metadata": {},
   "outputs": [
    {
     "name": "stdout",
     "output_type": "stream",
     "text": [
      "YF.download() has changed argument auto_adjust default to True\n"
     ]
    },
    {
     "name": "stderr",
     "output_type": "stream",
     "text": [
      "[*********************100%***********************]  170 of 170 completed\n"
     ]
    }
   ],
   "source": [
    "from functions import get_tickers_stocks, get_close_prices, double_listed_stocks\n",
    "import pandas as pd\n",
    "\n",
    "\n",
    "\n",
    "\n",
    "#GET THE STOCKS\n",
    "\n",
    "# us_exchanges = ['NMS', 'NYQ', 'NGM']\n",
    "# eu_exchanges = ['PAR', 'FRA', 'LSE', 'AMS']\n",
    "# asia_exchanges = ['SHH', 'JPX', 'HKG']\n",
    "\n",
    "# selected_exchanges = us_exchanges + eu_exchanges + asia_exchanges\n",
    "\n",
    "# full_selected_stocks = {}\n",
    "# df_all_stocks = pd.DataFrame()\n",
    "# for exchange in selected_exchanges:\n",
    "#     print(f'Extracting from {exchange}')\n",
    "#     exchanges = [exchange]\n",
    "#     selected_stocks_dict, ticker_list = get_tickers_stocks(50000, exchanges, 20)\n",
    "\n",
    "#     full_selected_stocks.update(selected_stocks_dict)\n",
    "\n",
    "if len(tickers) > 0: \n",
    "    df = get_close_prices(tickers, period = 1, start = '2024-01-01')\n",
    "    #df_all_stocks = pd.concat([df_all_stocks, df], axis=1)\n",
    "\n",
    "# doubly_listed_tickers = double_listed_stocks(df)\n",
    "\n",
    "# for ticker_to_drop in doubly_listed_tickers:\n",
    "#     try:\n",
    "#         df_all_stocks = df_all_stocks.drop(columns=[ticker_to_drop])\n",
    "#     except:\n",
    "#         pass\n",
    "\n",
    "df_all_stocks = df.ffill() #ffill again after concatenating the tickers\n",
    "\n"
   ]
  },
  {
   "cell_type": "code",
   "execution_count": 8,
   "id": "57f165bc",
   "metadata": {},
   "outputs": [],
   "source": [
    "df_all_stocks.to_csv('stocks_data_out_sample_2024_foltered_volatility.csv')"
   ]
  },
  {
   "cell_type": "code",
   "execution_count": null,
   "id": "daa65cd7",
   "metadata": {},
   "outputs": [],
   "source": []
  }
 ],
 "metadata": {
  "kernelspec": {
   "display_name": "venv312",
   "language": "python",
   "name": "python3"
  },
  "language_info": {
   "codemirror_mode": {
    "name": "ipython",
    "version": 3
   },
   "file_extension": ".py",
   "mimetype": "text/x-python",
   "name": "python",
   "nbconvert_exporter": "python",
   "pygments_lexer": "ipython3",
   "version": "3.12.10"
  }
 },
 "nbformat": 4,
 "nbformat_minor": 5
}
