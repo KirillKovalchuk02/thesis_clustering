{
 "cells": [
  {
   "cell_type": "code",
   "execution_count": 1,
   "id": "0b5f93a7",
   "metadata": {},
   "outputs": [
    {
     "name": "stderr",
     "output_type": "stream",
     "text": [
      "c:\\Users\\Kirill\\Documents\\Projects\\thesis\\venv312\\Lib\\site-packages\\tslearn\\bases\\bases.py:15: UserWarning: h5py not installed, hdf5 features will not be supported.\n",
      "Install h5py to use hdf5 features: http://docs.h5py.org/\n",
      "  warn(h5py_msg)\n"
     ]
    }
   ],
   "source": [
    "import pandas as pd\n",
    "import numpy as np\n",
    "import yfinance as yf\n",
    "import json\n",
    "import matplotlib.pyplot as plt\n",
    "import seaborn as sns\n",
    "\n",
    "from sklearn.metrics import v_measure_score, jaccard_score\n",
    "\n",
    "from functions import join_stocks_crypto"
   ]
  },
  {
   "cell_type": "code",
   "execution_count": 2,
   "id": "f62f3df6",
   "metadata": {},
   "outputs": [
    {
     "name": "stderr",
     "output_type": "stream",
     "text": [
      "c:\\Users\\Kirill\\Documents\\Projects\\thesis\\venv312\\Lib\\site-packages\\pandas\\core\\internals\\blocks.py:393: RuntimeWarning: invalid value encountered in log\n",
      "  result = func(self.values, **kwargs)\n"
     ]
    },
    {
     "data": {
      "text/plain": [
       "PRCT      0.692412\n",
       "TTD       0.708151\n",
       "3YU.F     0.747658\n",
       "MDB       0.755362\n",
       "SITM      0.765612\n",
       "RNA       0.797502\n",
       "AXSM      0.814172\n",
       "DJT       0.901152\n",
       "TBA.F     0.916075\n",
       "ECX       0.923325\n",
       "RYTM      0.941110\n",
       "OL5.F     1.315230\n",
       "SMMT      1.362448\n",
       "4AH1.F    1.370364\n",
       "2B5.F     1.385327\n",
       "PJXC.F    1.894676\n",
       "LPS1.F    3.012170\n",
       "WK0.F     3.041260\n",
       "0DH.F     4.547030\n",
       "LFU2.F    4.970240\n",
       "dtype: float64"
      ]
     },
     "execution_count": 2,
     "metadata": {},
     "output_type": "execute_result"
    }
   ],
   "source": [
    "#Find stocks with over the top volatility\n",
    "df_all_stocks = pd.read_csv('stocks_data_filled.csv',index_col='Date')\n",
    "cryptos_df = pd.read_csv('cryptos_data_new.csv', index_col='timestamp')\n",
    "joined_df = join_stocks_crypto(cryptos_df, df_all_stocks, mode = 'stocks_left')\n",
    "\n",
    "cryptos_list = list(cryptos_df.columns)\n",
    "\n",
    "\n",
    "log_returns = np.log(df_all_stocks / df_all_stocks.shift(1)).dropna()\n",
    "daily_volatility = log_returns.std()\n",
    "annual_volatility = daily_volatility * np.sqrt(252)\n",
    "\n",
    "annual_volatility.sort_values().tail(20)\n",
    "\n",
    "\n",
    "# df_all_stocks = df_all_stocks.drop(columns=['OL5.F', 'SMMT', '4AH1.F', '2B5.F', 'PJXC.F', 'LPS1.F', 'WK0.F', '0DH.F', 'LFU2.F'])\n",
    "\n",
    "# df_all_stocks.to_csv('stocks_data_filtered_volatility.csv')\n",
    "\n",
    "# tickers = list(df_all_stocks.columns)"
   ]
  },
  {
   "cell_type": "code",
   "execution_count": null,
   "id": "b49cd80a",
   "metadata": {},
   "outputs": [],
   "source": []
  },
  {
   "cell_type": "code",
   "execution_count": null,
   "id": "ad233e3d",
   "metadata": {},
   "outputs": [],
   "source": []
  },
  {
   "cell_type": "markdown",
   "id": "961d7638",
   "metadata": {},
   "source": [
    "CLUSTERING INSIGHTS"
   ]
  },
  {
   "cell_type": "code",
   "execution_count": 3,
   "id": "a9a3e4e4",
   "metadata": {},
   "outputs": [],
   "source": [
    "map_region_to_country = {'cn_market': 'asia',\n",
    " 'crypto': 'crypto',\n",
    " 'dr_market': 'eu',\n",
    " 'fr_market': 'eu',\n",
    " 'gb_market': 'eu',\n",
    " 'hk_market': 'asia',\n",
    " 'jp_market': 'asia',\n",
    " 'nl_market': 'eu',\n",
    " 'us_market': 'us'}\n",
    "\n",
    "\n",
    "df_all_stocks = pd.read_csv('stocks_data_filtered_volatility.csv',index_col='Date')\n",
    "cryptos_df = pd.read_csv('cryptos_data_new.csv', index_col='timestamp')\n",
    "tickers_all = list(df_all_stocks.columns) + list(cryptos_df.columns) \n",
    "\n",
    "exchanges_dict = dict()\n",
    "sector_dict = dict()\n",
    "market_dict = dict()\n",
    "region_dict = dict()\n",
    "for ticker in tickers_all:\n",
    "    dat = yf.Ticker(ticker)\n",
    "    if ticker in list(cryptos_df.columns):\n",
    "        exchanges_dict[ticker] = 'crypto'\n",
    "        sector_dict[ticker] = 'crypto'\n",
    "        market_dict[ticker] = 'crypto'\n",
    "        region_dict[ticker] = 'crypto'\n",
    "    else:\n",
    "        exchange = dat.info['exchange']\n",
    "        sector = dat.info['sectorKey']\n",
    "        market = dat.info['market']\n",
    "\n",
    "        exchanges_dict[ticker] = exchange\n",
    "        sector_dict[ticker] = sector\n",
    "        market_dict[ticker] = market\n",
    "        region_dict[ticker] = map_region_to_country[market]\n",
    " \n",
    "\n",
    "with open('tickers_with_exchanges.json', 'w') as fp:\n",
    "    json.dump(exchanges_dict, fp)\n",
    "\n",
    "with open('tickers_with_sectors.json', 'w') as fp:\n",
    "    json.dump(sector_dict, fp)\n",
    "\n",
    "with open('tickers_with_market.json', 'w') as fp:\n",
    "    json.dump(market_dict, fp)\n",
    "\n",
    "with open('tickers_with_region.json', 'w') as fp:\n",
    "    json.dump(region_dict, fp)"
   ]
  },
  {
   "cell_type": "code",
   "execution_count": 4,
   "id": "1e3383df",
   "metadata": {},
   "outputs": [],
   "source": [
    "cluster_labels = dict()\n",
    "for method in ['ahc', 'kmeans', 'kshape']:\n",
    "    with open(f'tickers_labels_{method}.json') as f:\n",
    "        clusters = json.load(f)\n",
    "        cluster_labels[method] = clusters\n",
    "\n",
    "\n",
    "with open('tickers_with_exchanges.json') as f:\n",
    "    exchanges_dict = json.load(f)\n",
    "\n",
    "with open('tickers_with_sectors.json') as f:\n",
    "    sector_dict = json.load(f)"
   ]
  },
  {
   "cell_type": "code",
   "execution_count": 9,
   "id": "b212a6ac",
   "metadata": {},
   "outputs": [],
   "source": [
    "#KSHAPE try more clusters\n",
    "# from functions import run_clustering_model\n",
    "\n",
    "# df = joined_df.rolling(window=3, center=True).mean()\n",
    "# labels, tickers_with_labels_kshape, _, _ = run_clustering_model(df, n_clus=13, model_name='kshape', linkage=None, return_mode='geometric', n_init=3)\n",
    "\n"
   ]
  },
  {
   "cell_type": "code",
   "execution_count": 10,
   "id": "319b0631",
   "metadata": {},
   "outputs": [],
   "source": [
    "# cluster_labels['kshape'] = tickers_with_labels_kshape\n"
   ]
  },
  {
   "cell_type": "code",
   "execution_count": 5,
   "id": "75544d4d",
   "metadata": {},
   "outputs": [],
   "source": [
    "def visualise_cryptos_in_clusters(ticker_to_class:dict, ticker_to_cluster_all, method, just_cryptos=True, heatmap=False):\n",
    "    df = pd.DataFrame({\n",
    "    'Ticker': list(ticker_to_class.keys()),\n",
    "    'CLASS': [ticker_to_class[t] for t in ticker_to_class],\n",
    "    'Cluster': [ticker_to_cluster_all[method][t] for t in ticker_to_class]\n",
    "    })\n",
    "\n",
    "    if just_cryptos:\n",
    "        df = df[df['CLASS'] == 'crypto']\n",
    "\n",
    "    pivot = df.groupby(['Cluster', 'CLASS']).size().unstack(fill_value=0)\n",
    "    \n",
    "    if heatmap:\n",
    "        sns.heatmap(pivot, annot=True, fmt='d', cmap='YlGnBu')\n",
    "        plt.title('Heatmap of CLASSES per Cluster')\n",
    "        plt.xlabel('CLASS')\n",
    "        plt.ylabel('Cluster')\n",
    "        plt.tight_layout()\n",
    "    \n",
    "    else:\n",
    "        pivot.plot(kind='bar', stacked=True, colormap='tab20')\n",
    "        plt.title('CLASS Distribution by Cluster')\n",
    "        plt.xlabel('Cluster')\n",
    "        plt.ylabel('Number of Tickers')\n",
    "        plt.xticks(rotation=0)\n",
    "        plt.legend(title='CLASS')\n",
    "        plt.tight_layout()\n",
    "\n",
    "        \n",
    "    plt.show()"
   ]
  },
  {
   "cell_type": "code",
   "execution_count": 6,
   "id": "655fdbc5",
   "metadata": {},
   "outputs": [
    {
     "data": {
      "image/png": "[encoded data removed]",
      "text/plain": [
       "<Figure size 640x480 with 1 Axes>"
      ]
     },
     "metadata": {},
     "output_type": "display_data"
    }
   ],
   "source": [
    "visualise_cryptos_in_clusters(market_dict, cluster_labels, 'kmeans', just_cryptos=True, heatmap=False)"
   ]
  },
  {
   "cell_type": "code",
   "execution_count": 7,
   "id": "fc4a1a9c",
   "metadata": {},
   "outputs": [
    {
     "data": {
      "image/png": "[encoded data removed]",
      "text/plain": [
       "<Figure size 640x480 with 1 Axes>"
      ]
     },
     "metadata": {},
     "output_type": "display_data"
    }
   ],
   "source": [
    "visualise_cryptos_in_clusters(region_dict, cluster_labels, 'kshape', just_cryptos=False, heatmap=False)"
   ]
  },
  {
   "cell_type": "code",
   "execution_count": 13,
   "id": "20070a65",
   "metadata": {},
   "outputs": [
    {
     "data": {
      "text/plain": [
       "np.float64(0.1524706008642042)"
      ]
     },
     "execution_count": 13,
     "metadata": {},
     "output_type": "execute_result"
    }
   ],
   "source": [
    "def clustering_v_measure(cluster_dict:dict, class_dict:dict, method:str):\n",
    "    methods_clusters = cluster_dict[method]\n",
    "\n",
    "    common = list(set(methods_clusters) & set(class_dict))\n",
    "\n",
    "    if not common:\n",
    "        raise ValueError(\"No overlapping tickers between clustering and class dictionaries.\")\n",
    "\n",
    "    cluster_labels = [methods_clusters[t] for t in common]\n",
    "    true_labels = [class_dict[t] for t in common]\n",
    "\n",
    "    v_measure = v_measure_score(true_labels, cluster_labels)\n",
    "    \n",
    "    return v_measure\n",
    "\n",
    "\n",
    "\n",
    "v_measure = clustering_v_measure(cluster_labels, region_dict, method='kmeans')\n",
    "v_measure"
   ]
  },
  {
   "cell_type": "code",
   "execution_count": 16,
   "id": "a9189183",
   "metadata": {},
   "outputs": [
    {
     "name": "stdout",
     "output_type": "stream",
     "text": [
      "On exchange level, for kmeans: 0.19834997525341638\n",
      "On exchange level, for kshape: 0.5190538981216157\n",
      "On exchange level, for ahc: 0.3028582450455175\n",
      "On sector level, for kmeans: 0.1817511112463155\n",
      "On sector level, for kshape: 0.46598148207220175\n",
      "On sector level, for ahc: 0.29170693678029985\n",
      "On market level, for kmeans: 0.19649090613445538\n",
      "On market level, for kshape: 0.5443743633741192\n",
      "On market level, for ahc: 0.2815993092190369\n",
      "On region level, for kmeans: 0.1524706008642042\n",
      "On region level, for kshape: 0.5156457603163718\n",
      "On region level, for ahc: 0.2234046973418282\n"
     ]
    }
   ],
   "source": [
    "classes_levels = {'exchange': exchanges_dict, \n",
    "'sector': sector_dict,\n",
    "'market': market_dict,\n",
    "'region': region_dict}\n",
    "\n",
    "\n",
    "for class_name, class_dict in classes_levels.items():\n",
    "    for method in ['kmeans', 'kshape', 'ahc']:\n",
    "        v_measure = clustering_v_measure(cluster_labels, class_dict, method=method)\n",
    "        print(f'On {class_name} level, for {method}: {v_measure}')"
   ]
  },
  {
   "cell_type": "code",
   "execution_count": null,
   "id": "1e1991d8",
   "metadata": {},
   "outputs": [],
   "source": []
  },
  {
   "cell_type": "code",
   "execution_count": null,
   "id": "ddbe4e88",
   "metadata": {},
   "outputs": [],
   "source": []
  },
  {
   "cell_type": "code",
   "execution_count": 13,
   "id": "7defc820",
   "metadata": {},
   "outputs": [
    {
     "name": "stderr",
     "output_type": "stream",
     "text": [
      "c:\\Users\\Kirill\\Documents\\Projects\\thesis\\venv312\\Lib\\site-packages\\pandas\\core\\internals\\blocks.py:393: RuntimeWarning: invalid value encountered in log\n",
      "  result = func(self.values, **kwargs)\n"
     ]
    },
    {
     "data": {
      "image/png": "[encoded data removed]",
      "text/plain": [
       "<Figure size 640x480 with 1 Axes>"
      ]
     },
     "metadata": {},
     "output_type": "display_data"
    }
   ],
   "source": [
    "#DO A DENDROGRAM\n",
    "\n",
    "\n",
    "from scipy.cluster.hierarchy import dendrogram\n",
    "\n",
    "from sklearn.cluster import AgglomerativeClustering\n",
    "from sklearn.datasets import load_iris\n",
    "\n",
    "\n",
    "def plot_dendrogram(model, **kwargs):\n",
    "    # Create linkage matrix and then plot the dendrogram\n",
    "\n",
    "    # create the counts of samples under each node\n",
    "    counts = np.zeros(model.children_.shape[0])\n",
    "    n_samples = len(model.labels_)\n",
    "    for i, merge in enumerate(model.children_):\n",
    "        current_count = 0\n",
    "        for child_idx in merge:\n",
    "            if child_idx < n_samples:\n",
    "                current_count += 1  # leaf node\n",
    "            else:\n",
    "                current_count += counts[child_idx - n_samples]\n",
    "        counts[i] = current_count\n",
    "\n",
    "    linkage_matrix = np.column_stack(\n",
    "        [model.children_, model.distances_, counts]\n",
    "    ).astype(float)\n",
    "\n",
    "    # Plot the corresponding dendrogram\n",
    "    dendrogram(linkage_matrix, **kwargs)\n",
    "\n",
    "\n",
    "\n",
    "df_all_stocks = pd.read_csv('stocks_data_new.csv',index_col='Date')\n",
    "cryptos_df = pd.read_csv('cryptos_data_new.csv', index_col='timestamp')\n",
    "joined_df = join_stocks_crypto(cryptos_df, df_all_stocks, mode = 'stocks_left')\n",
    "\n",
    "joined_df.index = pd.to_datetime(joined_df.index)\n",
    "joined_df_3days = joined_df.resample('3D').last()\n",
    "\n",
    "df_returns = np.log(joined_df_3days / joined_df_3days.shift(1)).dropna()\n",
    "\n",
    "df = df_returns.rolling(window=60, center=True).mean().dropna()\n",
    "#labels, tickers_with_labels_ahc, _, _ = run_clustering_model(df, n_clus=12, model_name='ahc', linkage='complete', return_mode='geometric', n_init=3)\n",
    "\n",
    "# setting distance_threshold=0 ensures we compute the full tree.\n",
    "model = AgglomerativeClustering(distance_threshold=0, n_clusters=None, linkage='average')\n",
    "\n",
    "model = model.fit(df)\n",
    "plt.title(\"Hierarchical Clustering Dendrogram\")\n",
    "# plot the top three levels of the dendrogram\n",
    "plot_dendrogram(model, truncate_mode=\"level\", p=3)\n",
    "plt.xlabel(\"Number of points in node (or index of point if no parenthesis).\")\n",
    "plt.show()"
   ]
  },
  {
   "cell_type": "code",
   "execution_count": null,
   "id": "630975a6",
   "metadata": {},
   "outputs": [],
   "source": []
  }
 ],
 "metadata": {
  "kernelspec": {
   "display_name": "venv312",
   "language": "python",
   "name": "python3"
  },
  "language_info": {
   "codemirror_mode": {
    "name": "ipython",
    "version": 3
   },
   "file_extension": ".py",
   "mimetype": "text/x-python",
   "name": "python",
   "nbconvert_exporter": "python",
   "pygments_lexer": "ipython3",
   "version": "3.12.10"
  }
 },
 "nbformat": 4,
 "nbformat_minor": 5
}
