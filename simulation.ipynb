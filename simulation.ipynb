{
 "cells": [
  {
   "cell_type": "code",
   "execution_count": 1,
   "id": "9d97807d",
   "metadata": {},
   "outputs": [
    {
     "name": "stderr",
     "output_type": "stream",
     "text": [
      "/Users/kirillkovalchuk/Desktop/Projects/thesis_clustering/venv/lib/python3.13/site-packages/tslearn/bases/bases.py:15: UserWarning: h5py not installed, hdf5 features will not be supported.\n",
      "Install h5py to use hdf5 features: http://docs.h5py.org/\n",
      "  warn(h5py_msg)\n"
     ]
    }
   ],
   "source": [
    "import pandas as pd\n",
    "import random \n",
    "import json\n",
    "\n",
    "\n",
    "from functions import join_stocks_crypto, generate_rand_portfolios\n",
    "from functions_post_clustering import simulate_evaluate_portfolio_subset"
   ]
  },
  {
   "cell_type": "code",
   "execution_count": 2,
   "id": "e2c3f6c2",
   "metadata": {},
   "outputs": [],
   "source": [
    "#GET THE DATA IN\n",
    "df_all_stocks = pd.read_csv('stocks_data_filled.csv',index_col='Date')\n",
    "cryptos_df = pd.read_csv('cryptos_data.csv', index_col='Date')\n",
    "\n",
    "joined_df = join_stocks_crypto(cryptos_df, df_all_stocks, mode = 'stocks_left') #mode - either do left with crypto and fill NA for stocks or do left on stocks and leave out some dates for cryptos\n",
    "joined_df.index = pd.to_datetime(joined_df.index)\n",
    "\n",
    "returns_all = joined_df.pct_change()\n",
    "\n",
    "\n",
    "tickers = list(df_all_stocks.columns)\n",
    "\n",
    "random.seed(42)\n",
    "random_portfolios = generate_rand_portfolios(n_reps=1000, n_stocks=15, tickers=tickers)\n",
    "\n",
    "\n",
    "#Reassemble the portfolio jsons for minvar\n",
    "min_var_portfolios = dict()\n",
    "for i in range(1,1000):\n",
    "    with open(f'min_variance_portfolio_jsons/my_dict{i}.json') as f:\n",
    "        port = json.load(f)\n",
    "        min_var_portfolios.update(port)\n",
    "\n",
    "with open(f\"full_optimized_min_variance.json\", \"w\") as f:\n",
    "    json.dump(min_var_portfolios, f, indent=4)"
   ]
  },
  {
   "cell_type": "markdown",
   "id": "130b740f",
   "metadata": {},
   "source": [
    "SIMULATE AND EVALUATE"
   ]
  },
  {
   "cell_type": "code",
   "execution_count": 3,
   "id": "bed36ef8",
   "metadata": {},
   "outputs": [
    {
     "name": "stdout",
     "output_type": "stream",
     "text": [
      "Normality Test results: \n",
      "\n",
      "                           statistic        p_value  normal\n",
      "mean_cumulative_return    609.692142  4.046071e-133   False\n",
      "mean_daily_return         609.692142  4.046071e-133   False\n",
      "std_cumulative_return     772.668780  1.648566e-168   False\n",
      "std_daily_return          755.124060  1.063883e-164   False\n",
      "sharpe_daily                5.730103   5.698021e-02    True\n",
      "sharpe_cumulative          10.670590   4.818489e-03   False\n",
      "sharpe_annual               5.730103   5.698021e-02    True\n",
      "sharpe_cumulative_annual   10.670590   4.818489e-03   False\n",
      "VaR                       560.697513  1.762309e-122   False\n",
      "CVaR                      450.878254   1.238885e-98   False\n",
      "Normality Test results: \n",
      "\n",
      "                           statistic        p_value  normal\n",
      "mean_cumulative_return    426.311676   2.676676e-93   False\n",
      "mean_daily_return         426.311676   2.676676e-93   False\n",
      "std_cumulative_return     561.805442  1.012741e-122   False\n",
      "std_daily_return          554.443754  4.018542e-121   False\n",
      "sharpe_daily               65.241055   6.809026e-15   False\n",
      "sharpe_cumulative          70.297281   5.434248e-16   False\n",
      "sharpe_annual              65.241055   6.809026e-15   False\n",
      "sharpe_cumulative_annual   70.297281   5.434248e-16   False\n",
      "VaR                       621.072838  1.366931e-135   False\n",
      "CVaR                      587.606744  2.528231e-128   False\n"
     ]
    }
   ],
   "source": [
    "simulations_results_dict_rand, subset_statistics_df_rand, _ = simulate_evaluate_portfolio_subset(random_portfolios, returns_all, n_sims=100, t=100, distribution_model='multivar_norm')\n",
    "\n",
    "simulations_results_dict_minvar, subset_statistics_df_minvar, _ = simulate_evaluate_portfolio_subset(min_var_portfolios, returns_all, n_sims=100, t=100, distribution_model='multivar_norm')"
   ]
  },
  {
   "cell_type": "code",
   "execution_count": 48,
   "id": "873837aa",
   "metadata": {},
   "outputs": [],
   "source": [
    "from scipy.stats import f_oneway\n",
    "from scipy.stats import kruskal\n",
    "\n",
    "\n",
    "def kruskal_anova_test(subset_stats_dfs:dict, metrics='all', test='anova'):\n",
    "    if metrics == 'all':\n",
    "        subset_stats_dfs_list = [x for x in subset_stats_dfs.values()]\n",
    "        metrics = list(subset_stats_dfs_list[0].columns)\n",
    "\n",
    "    tests_results = dict()\n",
    "    for metric in metrics:\n",
    "        groups = [subset_df[metric] for k, subset_df in subset_stats_dfs.items()]\n",
    "    \n",
    "        if test == 'anova':\n",
    "            test_stat, test_p = f_oneway(*groups)\n",
    "        elif test == 'kruskal':\n",
    "            test_stat, test_p = kruskal(*groups)\n",
    "\n",
    "        tests_results[metric] = {'test_stat': round(float(test_stat), 4), 'test_p': round(float(test_p), 4)}\n",
    "    \n",
    "    return pd.DataFrame(tests_results).T"
   ]
  },
  {
   "cell_type": "code",
   "execution_count": 50,
   "id": "67ecfc5e",
   "metadata": {},
   "outputs": [
    {
     "data": {
      "text/html": [
       "<div>\n",
       "<style scoped>\n",
       "    .dataframe tbody tr th:only-of-type {\n",
       "        vertical-align: middle;\n",
       "    }\n",
       "\n",
       "    .dataframe tbody tr th {\n",
       "        vertical-align: top;\n",
       "    }\n",
       "\n",
       "    .dataframe thead th {\n",
       "        text-align: right;\n",
       "    }\n",
       "</style>\n",
       "<table border=\"1\" class=\"dataframe\">\n",
       "  <thead>\n",
       "    <tr style=\"text-align: right;\">\n",
       "      <th></th>\n",
       "      <th>test_stat</th>\n",
       "      <th>test_p</th>\n",
       "    </tr>\n",
       "  </thead>\n",
       "  <tbody>\n",
       "    <tr>\n",
       "      <th>mean_cumulative_return</th>\n",
       "      <td>201.2143</td>\n",
       "      <td>0.0</td>\n",
       "    </tr>\n",
       "    <tr>\n",
       "      <th>mean_daily_return</th>\n",
       "      <td>201.2143</td>\n",
       "      <td>0.0</td>\n",
       "    </tr>\n",
       "    <tr>\n",
       "      <th>std_cumulative_return</th>\n",
       "      <td>1207.7553</td>\n",
       "      <td>0.0</td>\n",
       "    </tr>\n",
       "    <tr>\n",
       "      <th>std_daily_return</th>\n",
       "      <td>1211.7177</td>\n",
       "      <td>0.0</td>\n",
       "    </tr>\n",
       "    <tr>\n",
       "      <th>sharpe_daily</th>\n",
       "      <td>221.9385</td>\n",
       "      <td>0.0</td>\n",
       "    </tr>\n",
       "    <tr>\n",
       "      <th>sharpe_cumulative</th>\n",
       "      <td>237.4066</td>\n",
       "      <td>0.0</td>\n",
       "    </tr>\n",
       "    <tr>\n",
       "      <th>sharpe_annual</th>\n",
       "      <td>221.9385</td>\n",
       "      <td>0.0</td>\n",
       "    </tr>\n",
       "    <tr>\n",
       "      <th>sharpe_cumulative_annual</th>\n",
       "      <td>237.4066</td>\n",
       "      <td>0.0</td>\n",
       "    </tr>\n",
       "    <tr>\n",
       "      <th>VaR</th>\n",
       "      <td>1352.4818</td>\n",
       "      <td>0.0</td>\n",
       "    </tr>\n",
       "    <tr>\n",
       "      <th>CVaR</th>\n",
       "      <td>1322.0393</td>\n",
       "      <td>0.0</td>\n",
       "    </tr>\n",
       "  </tbody>\n",
       "</table>\n",
       "</div>"
      ],
      "text/plain": [
       "                          test_stat  test_p\n",
       "mean_cumulative_return     201.2143     0.0\n",
       "mean_daily_return          201.2143     0.0\n",
       "std_cumulative_return     1207.7553     0.0\n",
       "std_daily_return          1211.7177     0.0\n",
       "sharpe_daily               221.9385     0.0\n",
       "sharpe_cumulative          237.4066     0.0\n",
       "sharpe_annual              221.9385     0.0\n",
       "sharpe_cumulative_annual   237.4066     0.0\n",
       "VaR                       1352.4818     0.0\n",
       "CVaR                      1322.0393     0.0"
      ]
     },
     "execution_count": 50,
     "metadata": {},
     "output_type": "execute_result"
    }
   ],
   "source": [
    "subset_stats_dfs = {'Random Portfolios Stats': subset_statistics_df_rand,\n",
    "                    'MinVar Portfolios Stats': subset_statistics_df_minvar}\n",
    "kruskal_anova_test(subset_stats_dfs, metrics='all', test='kruskal')"
   ]
  },
  {
   "cell_type": "code",
   "execution_count": 6,
   "id": "9157f775",
   "metadata": {},
   "outputs": [
    {
     "data": {
      "text/html": [
       "<div>\n",
       "<style scoped>\n",
       "    .dataframe tbody tr th:only-of-type {\n",
       "        vertical-align: middle;\n",
       "    }\n",
       "\n",
       "    .dataframe tbody tr th {\n",
       "        vertical-align: top;\n",
       "    }\n",
       "\n",
       "    .dataframe thead th {\n",
       "        text-align: right;\n",
       "    }\n",
       "</style>\n",
       "<table border=\"1\" class=\"dataframe\">\n",
       "  <thead>\n",
       "    <tr style=\"text-align: right;\">\n",
       "      <th></th>\n",
       "      <th>Group 1</th>\n",
       "      <th>Group 2</th>\n",
       "    </tr>\n",
       "  </thead>\n",
       "  <tbody>\n",
       "    <tr>\n",
       "      <th>Group 1</th>\n",
       "      <td>1.000000e+00</td>\n",
       "      <td>3.416326e-50</td>\n",
       "    </tr>\n",
       "    <tr>\n",
       "      <th>Group 2</th>\n",
       "      <td>3.416326e-50</td>\n",
       "      <td>1.000000e+00</td>\n",
       "    </tr>\n",
       "  </tbody>\n",
       "</table>\n",
       "</div>"
      ],
      "text/plain": [
       "              Group 1       Group 2\n",
       "Group 1  1.000000e+00  3.416326e-50\n",
       "Group 2  3.416326e-50  1.000000e+00"
      ]
     },
     "execution_count": 6,
     "metadata": {},
     "output_type": "execute_result"
    }
   ],
   "source": [
    "#Dunn-Bonferroni Test\n",
    "import scikit_posthocs as sp\n",
    "\n",
    "\n",
    "group1 = subset_statistics_df_rand['sharpe_annual']\n",
    "group2 = subset_statistics_df_minvar['sharpe_annual']\n",
    "\n",
    "\n",
    "# Combine into one Series\n",
    "data = pd.concat([group1, group2], ignore_index=True)\n",
    "groups = ['Group 1'] * len(group1) + ['Group 2'] * len(group2)\n",
    "\n",
    "#sp.posthoc_dunn([group1, group2], p_adjust='bonferroni')\n",
    "\n",
    "df = pd.DataFrame({'value': data, 'group': groups})\n",
    "sp.posthoc_dunn(df, val_col='value', group_col='group', p_adjust='bonferroni')"
   ]
  },
  {
   "cell_type": "code",
   "execution_count": 66,
   "id": "93c3f067",
   "metadata": {},
   "outputs": [],
   "source": [
    "def dunn_bonferroni(subset_stats_dfs:dict, metrics='all'):\n",
    "    if metrics == 'all':\n",
    "        subset_stats_dfs_list = [x for x in subset_stats_dfs.values()]\n",
    "        metrics = list(subset_stats_dfs_list[0].columns)\n",
    "\n",
    "    dunn_tables_results = dict()\n",
    "    for metric in metrics:\n",
    "\n",
    "        group_list = list()\n",
    "        group_labels = list()\n",
    "        for i, subset_dict_name in enumerate(subset_stats_dfs):\n",
    "            group = subset_stats_dfs[subset_dict_name][metric]\n",
    "            group_list.append(group)\n",
    "            group_labels.extend([subset_dict_name.replace(' Stats', '')] * len(group))\n",
    "        \n",
    "\n",
    "        data = pd.concat(group_list, ignore_index=True)\n",
    "\n",
    "\n",
    "        df = pd.DataFrame({'value': data, 'group': group_labels})\n",
    "        result = sp.posthoc_dunn(df, val_col='value', group_col='group', p_adjust='bonferroni')    \n",
    "        result = result.astype(float).round(4)\n",
    "\n",
    "        dunn_tables_results[metric] = result\n",
    "\n",
    "    \n",
    "    return dunn_tables_results"
   ]
  },
  {
   "cell_type": "code",
   "execution_count": 67,
   "id": "079e4a8b",
   "metadata": {},
   "outputs": [
    {
     "data": {
      "text/html": [
       "<div>\n",
       "<style scoped>\n",
       "    .dataframe tbody tr th:only-of-type {\n",
       "        vertical-align: middle;\n",
       "    }\n",
       "\n",
       "    .dataframe tbody tr th {\n",
       "        vertical-align: top;\n",
       "    }\n",
       "\n",
       "    .dataframe thead th {\n",
       "        text-align: right;\n",
       "    }\n",
       "</style>\n",
       "<table border=\"1\" class=\"dataframe\">\n",
       "  <thead>\n",
       "    <tr style=\"text-align: right;\">\n",
       "      <th></th>\n",
       "      <th>MinVar Portfolios</th>\n",
       "      <th>Random Portfolios</th>\n",
       "    </tr>\n",
       "  </thead>\n",
       "  <tbody>\n",
       "    <tr>\n",
       "      <th>MinVar Portfolios</th>\n",
       "      <td>1.0</td>\n",
       "      <td>0.0</td>\n",
       "    </tr>\n",
       "    <tr>\n",
       "      <th>Random Portfolios</th>\n",
       "      <td>0.0</td>\n",
       "      <td>1.0</td>\n",
       "    </tr>\n",
       "  </tbody>\n",
       "</table>\n",
       "</div>"
      ],
      "text/plain": [
       "                   MinVar Portfolios  Random Portfolios\n",
       "MinVar Portfolios                1.0                0.0\n",
       "Random Portfolios                0.0                1.0"
      ]
     },
     "execution_count": 67,
     "metadata": {},
     "output_type": "execute_result"
    }
   ],
   "source": [
    "subset_stats_dfs = {'Random Portfolios Stats': subset_statistics_df_rand,\n",
    "                    'MinVar Portfolios Stats': subset_statistics_df_minvar}\n",
    "x = dunn_bonferroni(subset_stats_dfs, metrics='all')\n",
    "x['mean_cumulative_return']"
   ]
  },
  {
   "cell_type": "code",
   "execution_count": null,
   "id": "87c33984",
   "metadata": {},
   "outputs": [],
   "source": []
  },
  {
   "cell_type": "code",
   "execution_count": null,
   "id": "84547dcd",
   "metadata": {},
   "outputs": [],
   "source": []
  },
  {
   "cell_type": "code",
   "execution_count": null,
   "id": "ec1c2619",
   "metadata": {},
   "outputs": [],
   "source": []
  }
 ],
 "metadata": {
  "kernelspec": {
   "display_name": "venv",
   "language": "python",
   "name": "python3"
  },
  "language_info": {
   "codemirror_mode": {
    "name": "ipython",
    "version": 3
   },
   "file_extension": ".py",
   "mimetype": "text/x-python",
   "name": "python",
   "nbconvert_exporter": "python",
   "pygments_lexer": "ipython3",
   "version": "3.13.2"
  }
 },
 "nbformat": 4,
 "nbformat_minor": 5
}
