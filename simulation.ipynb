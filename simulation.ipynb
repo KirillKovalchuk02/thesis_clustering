{
 "cells": [
  {
   "cell_type": "code",
   "execution_count": 1,
   "id": "9d97807d",
   "metadata": {},
   "outputs": [
    {
     "name": "stderr",
     "output_type": "stream",
     "text": [
      "/Users/kirillkovalchuk/Desktop/Projects/thesis_clustering/venv/lib/python3.13/site-packages/tslearn/bases/bases.py:15: UserWarning: h5py not installed, hdf5 features will not be supported.\n",
      "Install h5py to use hdf5 features: http://docs.h5py.org/\n",
      "  warn(h5py_msg)\n"
     ]
    }
   ],
   "source": [
    "import pandas as pd\n",
    "import random \n",
    "import json\n",
    "\n",
    "\n",
    "from functions import join_stocks_crypto, generate_rand_portfolios\n",
    "from functions_post_clustering import simulate_evaluate_portfolio_subset"
   ]
  },
  {
   "cell_type": "code",
   "execution_count": 2,
   "id": "e2c3f6c2",
   "metadata": {},
   "outputs": [
    {
     "ename": "FileNotFoundError",
     "evalue": "[Errno 2] No such file or directory: 'min_variance_portfolio_jsons/my_dict1.json'",
     "output_type": "error",
     "traceback": [
      "\u001b[31m---------------------------------------------------------------------------\u001b[39m",
      "\u001b[31mFileNotFoundError\u001b[39m                         Traceback (most recent call last)",
      "\u001b[36mCell\u001b[39m\u001b[36m \u001b[39m\u001b[32mIn[2]\u001b[39m\u001b[32m, line 20\u001b[39m\n\u001b[32m     18\u001b[39m min_var_portfolios = \u001b[38;5;28mdict\u001b[39m()\n\u001b[32m     19\u001b[39m \u001b[38;5;28;01mfor\u001b[39;00m i \u001b[38;5;129;01min\u001b[39;00m \u001b[38;5;28mrange\u001b[39m(\u001b[32m1\u001b[39m,\u001b[32m1000\u001b[39m):\n\u001b[32m---> \u001b[39m\u001b[32m20\u001b[39m     \u001b[38;5;28;01mwith\u001b[39;00m \u001b[38;5;28;43mopen\u001b[39;49m\u001b[43m(\u001b[49m\u001b[33;43mf\u001b[39;49m\u001b[33;43m'\u001b[39;49m\u001b[33;43mmin_variance_portfolio_jsons/my_dict\u001b[39;49m\u001b[38;5;132;43;01m{\u001b[39;49;00m\u001b[43mi\u001b[49m\u001b[38;5;132;43;01m}\u001b[39;49;00m\u001b[33;43m.json\u001b[39;49m\u001b[33;43m'\u001b[39;49m\u001b[43m)\u001b[49m \u001b[38;5;28;01mas\u001b[39;00m f:\n\u001b[32m     21\u001b[39m         port = json.load(f)\n\u001b[32m     22\u001b[39m         min_var_portfolios.update(port)\n",
      "\u001b[36mFile \u001b[39m\u001b[32m~/Desktop/Projects/thesis_clustering/venv/lib/python3.13/site-packages/IPython/core/interactiveshell.py:326\u001b[39m, in \u001b[36m_modified_open\u001b[39m\u001b[34m(file, *args, **kwargs)\u001b[39m\n\u001b[32m    319\u001b[39m \u001b[38;5;28;01mif\u001b[39;00m file \u001b[38;5;129;01min\u001b[39;00m {\u001b[32m0\u001b[39m, \u001b[32m1\u001b[39m, \u001b[32m2\u001b[39m}:\n\u001b[32m    320\u001b[39m     \u001b[38;5;28;01mraise\u001b[39;00m \u001b[38;5;167;01mValueError\u001b[39;00m(\n\u001b[32m    321\u001b[39m         \u001b[33mf\u001b[39m\u001b[33m\"\u001b[39m\u001b[33mIPython won\u001b[39m\u001b[33m'\u001b[39m\u001b[33mt let you open fd=\u001b[39m\u001b[38;5;132;01m{\u001b[39;00mfile\u001b[38;5;132;01m}\u001b[39;00m\u001b[33m by default \u001b[39m\u001b[33m\"\u001b[39m\n\u001b[32m    322\u001b[39m         \u001b[33m\"\u001b[39m\u001b[33mas it is likely to crash IPython. If you know what you are doing, \u001b[39m\u001b[33m\"\u001b[39m\n\u001b[32m    323\u001b[39m         \u001b[33m\"\u001b[39m\u001b[33myou can use builtins\u001b[39m\u001b[33m'\u001b[39m\u001b[33m open.\u001b[39m\u001b[33m\"\u001b[39m\n\u001b[32m    324\u001b[39m     )\n\u001b[32m--> \u001b[39m\u001b[32m326\u001b[39m \u001b[38;5;28;01mreturn\u001b[39;00m \u001b[43mio_open\u001b[49m\u001b[43m(\u001b[49m\u001b[43mfile\u001b[49m\u001b[43m,\u001b[49m\u001b[43m \u001b[49m\u001b[43m*\u001b[49m\u001b[43margs\u001b[49m\u001b[43m,\u001b[49m\u001b[43m \u001b[49m\u001b[43m*\u001b[49m\u001b[43m*\u001b[49m\u001b[43mkwargs\u001b[49m\u001b[43m)\u001b[49m\n",
      "\u001b[31mFileNotFoundError\u001b[39m: [Errno 2] No such file or directory: 'min_variance_portfolio_jsons/my_dict1.json'"
     ]
    }
   ],
   "source": [
    "#GET THE DATA IN\n",
    "df_all_stocks = pd.read_csv('stocks_data_filled.csv',index_col='Date')\n",
    "cryptos_df = pd.read_csv('cryptos_data.csv', index_col='Date')\n",
    "\n",
    "joined_df = join_stocks_crypto(cryptos_df, df_all_stocks, mode = 'stocks_left') #mode - either do left with crypto and fill NA for stocks or do left on stocks and leave out some dates for cryptos\n",
    "joined_df.index = pd.to_datetime(joined_df.index)\n",
    "\n",
    "returns_all = joined_df.pct_change()\n",
    "\n",
    "\n",
    "tickers = list(df_all_stocks.columns)\n",
    "\n",
    "random.seed(42)\n",
    "random_portfolios = generate_rand_portfolios(n_reps=1000, n_stocks=15, tickers=tickers)\n",
    "\n",
    "\n",
    "#Reassemble the portfolio jsons for minvar\n",
    "min_var_portfolios = dict()\n",
    "for i in range(1,1000):\n",
    "    with open(f'min_variance_portfolio_jsons/my_dict{i}.json') as f:\n",
    "        port = json.load(f)\n",
    "        min_var_portfolios.update(port)\n",
    "\n",
    "with open(f\"full_optimized_min_variance.json\", \"w\") as f:\n",
    "    json.dump(min_var_portfolios, f, indent=4)"
   ]
  },
  {
   "cell_type": "markdown",
   "id": "130b740f",
   "metadata": {},
   "source": [
    "SIMULATE AND EVALUATE"
   ]
  },
  {
   "cell_type": "code",
   "execution_count": null,
   "id": "bed36ef8",
   "metadata": {},
   "outputs": [
    {
     "name": "stdout",
     "output_type": "stream",
     "text": [
      "                           statistic        p_value  normal\n",
      "mean_cumulative_return    586.218745  5.060773e-128   False\n",
      "mean_daily_return         586.218745  5.060773e-128   False\n",
      "std_cumulative_return     785.192641  3.144738e-171   False\n",
      "std_daily_return          777.133328  1.768650e-169   False\n",
      "sharpe_daily               12.979482   1.518942e-03   False\n",
      "sharpe_cumulative          13.615903   1.104954e-03   False\n",
      "sharpe_annual              12.979482   1.518942e-03   False\n",
      "sharpe_cumulative_annual   13.615903   1.104954e-03   False\n",
      "VaR                       598.947112  8.715396e-131   False\n",
      "CVaR                      469.722552  1.002406e-102   False\n"
     ]
    }
   ],
   "source": [
    "simulations_results_dict_rand, subset_statistics_df_rand, _ = simulate_evaluate_portfolio_subset(random_portfolios, returns_all, n_sims=100, t=100, distribution_model='multivar_norm')\n",
    "\n",
    "simulations_results_dict_minvar, subset_statistics_df_minvar, _ = simulate_evaluate_portfolio_subset(min_var_portfolios, returns_all, n_sims=100, t=100, distribution_model='multivar_norm')"
   ]
  },
  {
   "cell_type": "code",
   "execution_count": null,
   "id": "873837aa",
   "metadata": {},
   "outputs": [],
   "source": [
    "from scipy.stats import f_oneway\n",
    "from scipy.stats import kruskal\n",
    "\n",
    "\n",
    "def difference_between_subsets(subset_stats_dfs:list, metrics=['sharpe_annual'], test='anova'):\n",
    "    tests_results = dict()\n",
    "    for metric in metrics:\n",
    "        groups = [subset_df[metric] for subset_df in subset_stats_dfs]\n",
    "    \n",
    "        if test == 'anova':\n",
    "            test_stat, test_p = f_oneway(groups)\n",
    "        elif test == 'kruskal':\n",
    "            test_stat, test_stat = kruskal(groups)\n",
    "\n",
    "        tests_results[metric] = {'test_stat': test_stat, 'test_p': test_p}\n",
    "\n",
    "    return tests_results"
   ]
  },
  {
   "cell_type": "code",
   "execution_count": null,
   "id": "67ecfc5e",
   "metadata": {},
   "outputs": [],
   "source": [
    "difference_between_subsets([subset_statistics_df_rand, subset_statistics_df_minvar], metric=['sharpe_annual'], test='kruskal')"
   ]
  },
  {
   "cell_type": "code",
   "execution_count": null,
   "id": "9157f775",
   "metadata": {},
   "outputs": [],
   "source": []
  },
  {
   "cell_type": "code",
   "execution_count": null,
   "id": "93c3f067",
   "metadata": {},
   "outputs": [],
   "source": []
  }
 ],
 "metadata": {
  "kernelspec": {
   "display_name": "venv",
   "language": "python",
   "name": "python3"
  },
  "language_info": {
   "codemirror_mode": {
    "name": "ipython",
    "version": 3
   },
   "file_extension": ".py",
   "mimetype": "text/x-python",
   "name": "python",
   "nbconvert_exporter": "python",
   "pygments_lexer": "ipython3",
   "version": "3.13.2"
  }
 },
 "nbformat": 4,
 "nbformat_minor": 5
}
