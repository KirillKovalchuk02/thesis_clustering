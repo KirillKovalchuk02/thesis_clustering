{
 "cells": [
  {
   "cell_type": "code",
   "execution_count": null,
   "id": "9d97807d",
   "metadata": {},
   "outputs": [
    {
     "name": "stderr",
     "output_type": "stream",
     "text": [
      "c:\\Users\\Kirill\\Documents\\Projects\\thesis\\venv312\\Lib\\site-packages\\tslearn\\bases\\bases.py:15: UserWarning: h5py not installed, hdf5 features will not be supported.\n",
      "Install h5py to use hdf5 features: http://docs.h5py.org/\n",
      "  warn(h5py_msg)\n"
     ]
    }
   ],
   "source": [
    "import pandas as pd\n",
    "import random \n",
    "import json\n",
    "\n",
    "\n",
    "from functions import join_stocks_crypto, generate_rand_portfolios\n",
    "from functions_post_clustering import simulate_evaluate_portfolio_subset"
   ]
  },
  {
   "cell_type": "code",
   "execution_count": 2,
   "id": "e2c3f6c2",
   "metadata": {},
   "outputs": [],
   "source": [
    "#GET THE DATA IN\n",
    "df_all_stocks = pd.read_csv('stocks_data_filled.csv',index_col='Date')\n",
    "cryptos_df = pd.read_csv('cryptos_data.csv', index_col='Date')\n",
    "\n",
    "joined_df = join_stocks_crypto(cryptos_df, df_all_stocks, mode = 'stocks_left') #mode - either do left with crypto and fill NA for stocks or do left on stocks and leave out some dates for cryptos\n",
    "joined_df.index = pd.to_datetime(joined_df.index)\n",
    "\n",
    "returns_all = joined_df.pct_change()\n",
    "\n",
    "\n",
    "tickers = list(df_all_stocks.columns)\n",
    "\n",
    "random.seed(42)\n",
    "random_portfolios = generate_rand_portfolios(n_reps=1000, n_stocks=15, tickers=tickers)\n",
    "\n",
    "\n",
    "#Reassemble the portfolio jsons for minvar\n",
    "min_var_portfolios = dict()\n",
    "for i in range(1,1000):\n",
    "    with open(f'min_variance_portfolio_jsons/my_dict{i}.json') as f:\n",
    "        port = json.load(f)\n",
    "        min_var_portfolios.update(port)\n",
    "\n",
    "with open(f\"full_optimized_min_variance.json\", \"w\") as f:\n",
    "    json.dump(min_var_portfolios, f, indent=4)"
   ]
  },
  {
   "cell_type": "markdown",
   "id": "130b740f",
   "metadata": {},
   "source": [
    "SIMULATE AND EVALUATE"
   ]
  },
  {
   "cell_type": "code",
   "execution_count": 3,
   "id": "bed36ef8",
   "metadata": {},
   "outputs": [
    {
     "name": "stdout",
     "output_type": "stream",
     "text": [
      "                           statistic        p_value  normal\n",
      "mean_cumulative_return    586.218745  5.060773e-128   False\n",
      "mean_daily_return         586.218745  5.060773e-128   False\n",
      "std_cumulative_return     785.192641  3.144738e-171   False\n",
      "std_daily_return          777.133328  1.768650e-169   False\n",
      "sharpe_daily               12.979482   1.518942e-03   False\n",
      "sharpe_cumulative          13.615903   1.104954e-03   False\n",
      "sharpe_annual              12.979482   1.518942e-03   False\n",
      "sharpe_cumulative_annual   13.615903   1.104954e-03   False\n",
      "VaR                       598.947112  8.715396e-131   False\n",
      "CVaR                      469.722552  1.002406e-102   False\n"
     ]
    }
   ],
   "source": [
    "simulations_results_dict_rand, subset_statistics_df_rand, _ = simulate_evaluate_portfolio_subset(random_portfolios, returns_all, n_sims=100, t=100, distribution_model='multivar_norm')"
   ]
  },
  {
   "cell_type": "code",
   "execution_count": null,
   "id": "873837aa",
   "metadata": {},
   "outputs": [],
   "source": [
    "def difference_between_subsets():\n",
    "    "
   ]
  },
  {
   "cell_type": "code",
   "execution_count": null,
   "id": "e6e96aa0",
   "metadata": {},
   "outputs": [],
   "source": []
  },
  {
   "cell_type": "code",
   "execution_count": null,
   "id": "67ecfc5e",
   "metadata": {},
   "outputs": [],
   "source": []
  },
  {
   "cell_type": "code",
   "execution_count": null,
   "id": "9157f775",
   "metadata": {},
   "outputs": [],
   "source": []
  },
  {
   "cell_type": "code",
   "execution_count": null,
   "id": "93c3f067",
   "metadata": {},
   "outputs": [],
   "source": []
  }
 ],
 "metadata": {
  "kernelspec": {
   "display_name": "venv312",
   "language": "python",
   "name": "python3"
  },
  "language_info": {
   "codemirror_mode": {
    "name": "ipython",
    "version": 3
   },
   "file_extension": ".py",
   "mimetype": "text/x-python",
   "name": "python",
   "nbconvert_exporter": "python",
   "pygments_lexer": "ipython3",
   "version": "3.12.10"
  }
 },
 "nbformat": 4,
 "nbformat_minor": 5
}
