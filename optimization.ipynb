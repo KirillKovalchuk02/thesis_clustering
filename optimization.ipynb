{
 "cells": [
  {
   "cell_type": "code",
   "execution_count": 42,
   "id": "dbc14318",
   "metadata": {},
   "outputs": [],
   "source": [
    "from pypfopt import EfficientFrontier\n",
    "from pypfopt import risk_models\n",
    "from pypfopt import expected_returns\n",
    "\n",
    "import pandas as pd\n",
    "from functions import join_stocks_crypto, generate_rand_portfolios, sharpe_ratio_calculation, select_top_five, run_clustering_model, sharpe_ratio_calculation\n",
    "\n",
    "import cvxpy as cp\n",
    "import random\n",
    "import json"
   ]
  },
  {
   "cell_type": "code",
   "execution_count": 28,
   "id": "f141703b",
   "metadata": {},
   "outputs": [],
   "source": [
    "df_all_stocks = pd.read_csv('stocks_data_filled.csv',index_col='Date')\n",
    "cryptos_df = pd.read_csv('cryptos_data.csv', index_col='Date')\n",
    "joined_df = join_stocks_crypto(cryptos_df, df_all_stocks, mode = 'stocks_left')\n",
    "\n",
    "cryptos_list = list(cryptos_df.columns)"
   ]
  },
  {
   "cell_type": "code",
   "execution_count": 3,
   "id": "3a8cd38f",
   "metadata": {},
   "outputs": [],
   "source": [
    "tickers = list(df_all_stocks.columns)\n",
    "\n",
    "random.seed(42)\n",
    "random_portfolios = generate_rand_portfolios(n_reps=1000, n_stocks=15, tickers=tickers)\n",
    "\n",
    "\n",
    "#Select top five sharpe ratio portfolios from a portfolio\n",
    "sharpe_ratio = sharpe_ratio_calculation(df_all_stocks, rf_rate_annual = 0.02)\n",
    "top_five_dict = select_top_five(random_portfolios, metric=sharpe_ratio)"
   ]
  },
  {
   "cell_type": "code",
   "execution_count": 4,
   "id": "6994edf5",
   "metadata": {},
   "outputs": [
    {
     "data": {
      "text/plain": [
       "{'CRESY': 0.9624262180841339,\n",
       " '601857.SS': 0.8426712750398243,\n",
       " 'PKX': 0.7110552210687626,\n",
       " '0386.HK': 0.6714594474023661,\n",
       " 'VERX': 0.6467235554934667}"
      ]
     },
     "execution_count": 4,
     "metadata": {},
     "output_type": "execute_result"
    }
   ],
   "source": [
    "top_five = top_five_dict['portfolio_0']\n",
    "top_five"
   ]
  },
  {
   "cell_type": "code",
   "execution_count": 59,
   "id": "5a26b2de",
   "metadata": {},
   "outputs": [
    {
     "name": "stderr",
     "output_type": "stream",
     "text": [
      "c:\\Users\\Kirill\\Documents\\Projects\\thesis\\venv312\\Lib\\site-packages\\pandas\\core\\internals\\blocks.py:393: RuntimeWarning: invalid value encountered in log\n",
      "  result = func(self.values, **kwargs)\n",
      "c:\\Users\\Kirill\\Documents\\Projects\\thesis\\venv312\\Lib\\site-packages\\pandas\\core\\internals\\blocks.py:393: RuntimeWarning: invalid value encountered in log\n",
      "  result = func(self.values, **kwargs)\n"
     ]
    }
   ],
   "source": [
    "df = joined_df.rolling(window=30, center=True).mean()\n",
    "labels, tickers_with_labels, _, _ = run_clustering_model(df, n_clus=4, model_name='ahc', linkage='complete', return_mode='geometric', n_init=3)"
   ]
  },
  {
   "cell_type": "code",
   "execution_count": 38,
   "id": "8c95c897",
   "metadata": {},
   "outputs": [],
   "source": [
    "mu = expected_returns.mean_historical_return(joined_df)\n",
    "\n",
    "S = risk_models.sample_cov(joined_df)\n",
    "\n",
    "top_five = {'CRESY': 0.9624262180841339,\n",
    " '601857.SS': 0.8426712750398243,\n",
    " 'PKX': 0.7110552210687626,\n",
    " '0386.HK': 0.6714594474023661,\n",
    " 'VERX': 0.6467235554934667}\n"
   ]
  },
  {
   "cell_type": "code",
   "execution_count": null,
   "id": "cdc8b666",
   "metadata": {},
   "outputs": [],
   "source": [
    "#CLAUDE's algorithm for selecting complementing cryptos:\n",
    "#After this we want to reaoptimize the whole portfolio for max sharpe or min var\n",
    "\n",
    "def select_complementary_cryptos(existing_stocks, crypto_candidates, cluster_assignments, df_prices, n_cryptos=3, verbose=False):\n",
    "    \"\"\"\n",
    "    Select cryptocurrencies to complement an existing stock portfolio based on\n",
    "    cluster diversification, with a special case for when all cryptos are in the same cluster.\n",
    "    \n",
    "    Parameters:\n",
    "    - existing_stocks: List of stock tickers in the current portfolio\n",
    "    - crypto_candidates: List of potential crypto assets to choose from\n",
    "    - cluster_assignments: Dictionary mapping each asset to its cluster ID\n",
    "    - returns_data: Dictionary mapping each asset to its return metric\n",
    "    - n_cryptos: Number of cryptocurrencies to select (default: 3)\n",
    "    \n",
    "    Returns:\n",
    "    - List of selected crypto assets\n",
    "    \"\"\"\n",
    "    if verbose:\n",
    "        clusters_dict = {i: cluster_assignments[i] for i in existing_stocks}\n",
    "        print('Cluster Distribution in the original portfolio: \\n')\n",
    "        print(pd.DataFrame(columns = ['ticker', 'cluster'], data=clusters_dict.items()).groupby('cluster').count())\n",
    "\n",
    "    returns_data = dict(sharpe_ratio_calculation(df_prices, rf_rate_annual = 0.02))\n",
    "    # Step 1: Identify clusters already represented in the portfolio\n",
    "    stock_clusters = set(cluster_assignments[stock] for stock in existing_stocks)\n",
    "    \n",
    "    # Step 2: Check crypto cluster diversity\n",
    "    crypto_clusters = set(cluster_assignments[crypto] for crypto in crypto_candidates)\n",
    "    \n",
    "    # Special case: All cryptos are in the same cluster\n",
    "    if len(crypto_clusters) == 1:\n",
    "        sorted_by_return = sorted(\n",
    "            crypto_candidates,\n",
    "            key=lambda crypto: returns_data[crypto],\n",
    "            reverse=True\n",
    "        )\n",
    "        return sorted_by_return[:n_cryptos]\n",
    "    \n",
    "    # Step 3: Group crypto candidates by their cluster\n",
    "    crypto_by_cluster = {}\n",
    "    for crypto in crypto_candidates:\n",
    "        cluster = cluster_assignments[crypto]\n",
    "        if cluster not in crypto_by_cluster:\n",
    "            crypto_by_cluster[cluster] = []\n",
    "        crypto_by_cluster[cluster].append(crypto)\n",
    "    \n",
    "    # Step 4: Select cryptos from unrepresented clusters first\n",
    "    selected_cryptos = []\n",
    "    unrepresented_clusters = set(crypto_by_cluster.keys()) - stock_clusters\n",
    "    \n",
    "    # Sort unrepresented clusters by the best return in each cluster\n",
    "    cluster_best_returns = {\n",
    "        cluster: max(returns_data[crypto] for crypto in cryptos)\n",
    "        for cluster, cryptos in crypto_by_cluster.items()\n",
    "        if cluster in unrepresented_clusters\n",
    "    }\n",
    "    \n",
    "    sorted_unrepresented_clusters = sorted(\n",
    "        unrepresented_clusters, \n",
    "        key=lambda cluster: cluster_best_returns[cluster],\n",
    "        reverse=True\n",
    "    )\n",
    "    \n",
    "    # For each unrepresented cluster, select the crypto with the best return\n",
    "    for cluster in sorted_unrepresented_clusters:\n",
    "        if len(selected_cryptos) >= n_cryptos:\n",
    "            break\n",
    "            \n",
    "        # Choose the crypto with the best return from this cluster\n",
    "        best_crypto = max(\n",
    "            crypto_by_cluster[cluster],\n",
    "            key=lambda crypto: returns_data[crypto]\n",
    "        )\n",
    "        selected_cryptos.append(best_crypto)\n",
    "    \n",
    "    # Step 5: If we still need more cryptos, use return metrics for selection\n",
    "    if len(selected_cryptos) < n_cryptos:\n",
    "        remaining_cryptos = [\n",
    "            crypto for crypto in crypto_candidates \n",
    "            if crypto not in selected_cryptos\n",
    "        ]\n",
    "        \n",
    "        sorted_remaining = sorted(\n",
    "            remaining_cryptos,\n",
    "            key=lambda crypto: returns_data[crypto],\n",
    "            reverse=True\n",
    "        )\n",
    "        \n",
    "        needed = n_cryptos - len(selected_cryptos)\n",
    "        selected_cryptos.extend(sorted_remaining[:needed])\n",
    "    \n",
    "    return selected_cryptos"
   ]
  },
  {
   "cell_type": "code",
   "execution_count": 85,
   "id": "5db934da",
   "metadata": {},
   "outputs": [
    {
     "name": "stdout",
     "output_type": "stream",
     "text": [
      "Cluster Distribution in the original portfolio: \n",
      "\n",
      "         ticker\n",
      "cluster        \n",
      "0            10\n",
      "1             5\n"
     ]
    },
    {
     "data": {
      "text/plain": [
       "['UNI-USD', 'INJ-USD', 'APE-USD']"
      ]
     },
     "execution_count": 85,
     "metadata": {},
     "output_type": "execute_result"
    }
   ],
   "source": [
    "with open(f'min_variance_portfolio_jsons/my_dict3.json') as f:\n",
    "    portfolio = json.load(f)\n",
    "existing_stocks = list(portfolio['portfolio_3'].keys())\n",
    "\n",
    "select_complementary_cryptos(existing_stocks=existing_stocks, crypto_candidates=cryptos_list, cluster_assignments=tickers_with_labels, df_prices = joined_df, n_cryptos=3, verbose=True)"
   ]
  },
  {
   "cell_type": "code",
   "execution_count": null,
   "id": "9998e060",
   "metadata": {},
   "outputs": [],
   "source": []
  },
  {
   "cell_type": "code",
   "execution_count": null,
   "id": "1a1b8333",
   "metadata": {},
   "outputs": [],
   "source": []
  },
  {
   "cell_type": "code",
   "execution_count": null,
   "id": "ccb11837",
   "metadata": {},
   "outputs": [],
   "source": []
  },
  {
   "cell_type": "code",
   "execution_count": null,
   "id": "388b4c1b",
   "metadata": {},
   "outputs": [],
   "source": []
  }
 ],
 "metadata": {
  "kernelspec": {
   "display_name": "venv312",
   "language": "python",
   "name": "python3"
  },
  "language_info": {
   "codemirror_mode": {
    "name": "ipython",
    "version": 3
   },
   "file_extension": ".py",
   "mimetype": "text/x-python",
   "name": "python",
   "nbconvert_exporter": "python",
   "pygments_lexer": "ipython3",
   "version": "3.12.10"
  }
 },
 "nbformat": 4,
 "nbformat_minor": 5
}
