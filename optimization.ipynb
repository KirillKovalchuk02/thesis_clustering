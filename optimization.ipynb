{
 "cells": [
  {
   "cell_type": "code",
   "execution_count": 1,
   "id": "dbc14318",
   "metadata": {},
   "outputs": [
    {
     "name": "stderr",
     "output_type": "stream",
     "text": [
      "c:\\Users\\Kirill\\Documents\\Projects\\thesis\\venv312\\Lib\\site-packages\\tslearn\\bases\\bases.py:15: UserWarning: h5py not installed, hdf5 features will not be supported.\n",
      "Install h5py to use hdf5 features: http://docs.h5py.org/\n",
      "  warn(h5py_msg)\n"
     ]
    }
   ],
   "source": [
    "from pypfopt import EfficientFrontier\n",
    "from pypfopt import risk_models\n",
    "from pypfopt import expected_returns\n",
    "\n",
    "import pandas as pd\n",
    "from functions import join_stocks_crypto, generate_rand_portfolios, sharpe_ratio_calculation, select_top_five, run_clustering_model\n",
    "from functions_post_clustering import reoptimize_weights, select_complementary_cryptos, supplement_set_with_cryptos\n",
    "\n",
    "import cvxpy as cp\n",
    "import random\n",
    "import json\n",
    "import warnings"
   ]
  },
  {
   "cell_type": "code",
   "execution_count": 2,
   "id": "f141703b",
   "metadata": {},
   "outputs": [],
   "source": [
    "df_all_stocks = pd.read_csv('stocks_data_filled.csv',index_col='Date')\n",
    "cryptos_df = pd.read_csv('cryptos_data.csv', index_col='Date')\n",
    "joined_df = join_stocks_crypto(cryptos_df, df_all_stocks, mode = 'stocks_left')\n",
    "\n",
    "cryptos_list = list(cryptos_df.columns)"
   ]
  },
  {
   "cell_type": "code",
   "execution_count": 3,
   "id": "3a8cd38f",
   "metadata": {},
   "outputs": [],
   "source": [
    "tickers = list(df_all_stocks.columns)\n",
    "\n",
    "random.seed(42)\n",
    "random_portfolios = generate_rand_portfolios(n_reps=1000, n_stocks=15, tickers=tickers)\n",
    "\n",
    "\n",
    "#Select top five sharpe ratio portfolios from a portfolio\n",
    "sharpe_ratio = sharpe_ratio_calculation(df_all_stocks, rf_rate_annual = 0.02)\n",
    "top_five_dict = select_top_five(random_portfolios, metric=sharpe_ratio)"
   ]
  },
  {
   "cell_type": "code",
   "execution_count": 4,
   "id": "0a192266",
   "metadata": {},
   "outputs": [],
   "source": [
    "#Optimize Traditional Portfolios\n",
    "# for i in range(999, 1001):\n",
    "\n",
    "#     print('Doing', i)\n",
    "\n",
    "#     top_five_sets = dict(itertools.islice(top_five_dict.items(), i, i+1))\n",
    "#     results = run_min_variance(df_all_stocks, top_five_sets, min_weight_for_top_five=0.05)  #TRY DIFFERENT WEIGHTS FOR top_five\n",
    "#     with open(f\"min_variance_portfolio_jsons/my_dict{i}.json\", \"w\") as f:\n",
    "#         json.dump(results, f, indent=4)\n",
    "\n",
    "\n",
    "\n",
    "\n",
    "#Reassemble the results of the optimization - jsons\n",
    "min_var_portfolios = dict()\n",
    "for i in range(1,1000):\n",
    "    with open(f'min_variance_portfolio_jsons/my_dict{i}.json') as f:\n",
    "        port = json.load(f)\n",
    "        min_var_portfolios.update(port)\n",
    "\n",
    "# with open(f\"full_optimized_min_variance.json\", \"w\") as f:\n",
    "#     json.dump(min_var_portfolios, f, indent=4)"
   ]
  },
  {
   "cell_type": "code",
   "execution_count": 5,
   "id": "6994edf5",
   "metadata": {},
   "outputs": [],
   "source": [
    "# top_five = top_five_dict['portfolio_0']\n",
    "# top_five"
   ]
  },
  {
   "cell_type": "code",
   "execution_count": 6,
   "id": "5a26b2de",
   "metadata": {},
   "outputs": [],
   "source": [
    "#Actually Cluster the stocks\n",
    "\n",
    "warnings.simplefilter(action='ignore', category=FutureWarning) #supress warnings for cleanliness\n",
    "warnings.simplefilter(action='ignore', category=RuntimeWarning)\n",
    "\n",
    "joined_df.index = pd.to_datetime(joined_df.index)\n",
    "joined_df_weekly = joined_df.resample('W').last() #try aggregating on a weekly level\n",
    "joined_df_3days = joined_df.resample('3D').last()\n",
    "\n",
    "#AHC\n",
    "df = joined_df_3days.rolling(window=60, center=True).mean()\n",
    "labels, tickers_with_labels_ahc, _, _ = run_clustering_model(df, n_clus=7, model_name='ahc', linkage='complete', return_mode='geometric', n_init=3)\n",
    "\n",
    "#KMEANS\n",
    "df = joined_df_3days.rolling(window=60, center=True).mean()\n",
    "labels, tickers_with_labels_kmeans, _, _ = run_clustering_model(df, n_clus=7, model_name='kmeans', linkage=None, return_mode='geometric', n_init=3)\n",
    "\n",
    "#KSHAPE\n",
    "df = joined_df.rolling(window=7, center=True).mean()\n",
    "labels, tickers_with_labels_kshape, _, _ = run_clustering_model(df, n_clus=6, model_name='kmeans', linkage=None, return_mode='geometric', n_init=3)"
   ]
  },
  {
   "cell_type": "code",
   "execution_count": 7,
   "id": "11a00869",
   "metadata": {},
   "outputs": [],
   "source": [
    "#Random Portfolios supplemented with cryptos\n",
    "random_w_cryptos_kmeans = supplement_set_with_cryptos(portfolio_set=random_portfolios, cryptos_list=cryptos_list, tickers_with_labels=tickers_with_labels_kmeans, df_prices=joined_df, n_cryptos=3)\n",
    "random_w_cryptos_kshape = supplement_set_with_cryptos(portfolio_set=random_portfolios, cryptos_list=cryptos_list, tickers_with_labels=tickers_with_labels_kshape, df_prices=joined_df, n_cryptos=3)\n",
    "random_w_cryptos_ahc = supplement_set_with_cryptos(portfolio_set=random_portfolios, cryptos_list=cryptos_list, tickers_with_labels=tickers_with_labels_ahc, df_prices=joined_df, n_cryptos=3)\n",
    "\n",
    "random_w_cryptos_random = supplement_set_with_cryptos(portfolio_set=random_portfolios, cryptos_list=cryptos_list, tickers_with_labels=None, df_prices=joined_df, n_cryptos=3, random_alloc=True)\n",
    "\n",
    "#MinVar Portfolios supplemented with cryptos\n",
    "minvar_w_cryptos_kmeans = supplement_set_with_cryptos(portfolio_set=min_var_portfolios, cryptos_list=cryptos_list, tickers_with_labels=tickers_with_labels_kmeans, df_prices=joined_df, n_cryptos=3)\n",
    "minvar_w_cryptos_kshape = supplement_set_with_cryptos(portfolio_set=min_var_portfolios, cryptos_list=cryptos_list, tickers_with_labels=tickers_with_labels_kshape, df_prices=joined_df, n_cryptos=3)\n",
    "minvar_w_cryptos_ahc = supplement_set_with_cryptos(portfolio_set=min_var_portfolios, cryptos_list=cryptos_list, tickers_with_labels=tickers_with_labels_ahc, df_prices=joined_df, n_cryptos=3)\n",
    "\n",
    "minvar_w_cryptos_random = supplement_set_with_cryptos(portfolio_set=min_var_portfolios, cryptos_list=cryptos_list, tickers_with_labels=None, df_prices=joined_df, n_cryptos=3, random_alloc=True)\n"
   ]
  },
  {
   "cell_type": "code",
   "execution_count": 8,
   "id": "49ccdaa5",
   "metadata": {},
   "outputs": [
    {
     "name": "stderr",
     "output_type": "stream",
     "text": [
      "c:\\Users\\Kirill\\Documents\\Projects\\thesis\\venv312\\Lib\\site-packages\\cvxpy\\problems\\problem.py:1504: UserWarning: Solution may be inaccurate. Try another solver, adjusting the solver settings, or solve with verbose=True for more information.\n",
      "  warnings.warn(\n",
      "c:\\Users\\Kirill\\Documents\\Projects\\thesis\\venv312\\Lib\\site-packages\\cvxpy\\problems\\problem.py:1504: UserWarning: Solution may be inaccurate. Try another solver, adjusting the solver settings, or solve with verbose=True for more information.\n",
      "  warnings.warn(\n",
      "c:\\Users\\Kirill\\Documents\\Projects\\thesis\\venv312\\Lib\\site-packages\\cvxpy\\problems\\problem.py:1504: UserWarning: Solution may be inaccurate. Try another solver, adjusting the solver settings, or solve with verbose=True for more information.\n",
      "  warnings.warn(\n",
      "c:\\Users\\Kirill\\Documents\\Projects\\thesis\\venv312\\Lib\\site-packages\\cvxpy\\problems\\problem.py:1504: UserWarning: Solution may be inaccurate. Try another solver, adjusting the solver settings, or solve with verbose=True for more information.\n",
      "  warnings.warn(\n"
     ]
    }
   ],
   "source": [
    "#Random Portfolios supplemented with cryptos reoptimized\n",
    "random_w_cryptos_kmeans_equalw = reoptimize_weights(df_prices=joined_df, portfolio_set=random_w_cryptos_kmeans, how='equal_weights', min_weight=0.02, rf_rate=0.02)\n",
    "random_w_cryptos_kmeans_maxsharpe = reoptimize_weights(df_prices=joined_df, portfolio_set=random_w_cryptos_kmeans, how='max_sharpe', min_weight=0.02)\n",
    "\n",
    "random_w_cryptos_kshape_equalw  = reoptimize_weights(df_prices=joined_df, portfolio_set=random_w_cryptos_kshape, how='equal_weights', min_weight=0.02)\n",
    "random_w_cryptos_kshape_maxsharpe = reoptimize_weights(df_prices=joined_df, portfolio_set=random_w_cryptos_kshape, how='max_sharpe', min_weight=0.02)\n",
    "\n",
    "random_w_cryptos_ahc_equalw  = reoptimize_weights(df_prices=joined_df, portfolio_set=random_w_cryptos_ahc, how='equal_weights', min_weight=0.02)\n",
    "random_w_cryptos_ahc_maxsharpe = reoptimize_weights(df_prices=joined_df, portfolio_set=random_w_cryptos_ahc, how='max_sharpe', min_weight=0.02)\n",
    "\n",
    "random_w_cryptos_random_equalw  = reoptimize_weights(df_prices=joined_df, portfolio_set=random_w_cryptos_random, how='equal_weights', min_weight=0.02)\n",
    "random_w_cryptos_random_maxsharpe = reoptimize_weights(df_prices=joined_df, portfolio_set=random_w_cryptos_random, how='max_sharpe', min_weight=0.02)\n",
    "\n",
    "#MinVar Portfolios supplemented with cryptos reoptimized\n",
    "minvar_w_cryptos_kmeans_equalw = reoptimize_weights(df_prices=joined_df, portfolio_set=minvar_w_cryptos_kmeans, how='equal_weights', min_weight=0.02, rf_rate=0.02)\n",
    "minvar_w_cryptos_kmeans_maxsharpe = reoptimize_weights(df_prices=joined_df, portfolio_set=minvar_w_cryptos_kmeans, how='max_sharpe', min_weight=0.02)\n",
    "\n",
    "minvar_w_cryptos_kshape_equalw  = reoptimize_weights(df_prices=joined_df, portfolio_set=minvar_w_cryptos_kshape, how='equal_weights', min_weight=0.02)\n",
    "minvar_w_cryptos_kshape_maxsharpe = reoptimize_weights(df_prices=joined_df, portfolio_set=minvar_w_cryptos_kshape, how='max_sharpe', min_weight=0.02)\n",
    "\n",
    "minvar_w_cryptos_ahc_equalw  = reoptimize_weights(df_prices=joined_df, portfolio_set=minvar_w_cryptos_ahc, how='equal_weights', min_weight=0.02)\n",
    "minvar_w_cryptos_ahc_maxsharpe = reoptimize_weights(df_prices=joined_df, portfolio_set=minvar_w_cryptos_ahc, how='max_sharpe', min_weight=0.02)\n",
    "\n",
    "minvar_w_cryptos_random_equalw  = reoptimize_weights(df_prices=joined_df, portfolio_set=minvar_w_cryptos_random, how='equal_weights', min_weight=0.02)\n",
    "minvar_w_cryptos_random_maxsharpe = reoptimize_weights(df_prices=joined_df, portfolio_set=minvar_w_cryptos_random, how='max_sharpe', min_weight=0.02)\n",
    "\n",
    "\n",
    "\n",
    "\n"
   ]
  },
  {
   "cell_type": "code",
   "execution_count": 9,
   "id": "02f25143",
   "metadata": {},
   "outputs": [],
   "source": [
    "all_sets = {'random_w_cryptos_kmeans_equalw': random_w_cryptos_kmeans_equalw,\n",
    "            'random_w_cryptos_kmeans_maxsharpe': random_w_cryptos_kmeans_maxsharpe,\n",
    "            'random_w_cryptos_kshape_equalw': random_w_cryptos_kshape_equalw,\n",
    "            'random_w_cryptos_kshape_maxsharpe': random_w_cryptos_kshape_maxsharpe,\n",
    "            'random_w_cryptos_ahc_equalw': random_w_cryptos_ahc_equalw,\n",
    "            'random_w_cryptos_ahc_maxsharpe': random_w_cryptos_ahc_maxsharpe,\n",
    "            'random_w_cryptos_random_equalw': random_w_cryptos_random_equalw,\n",
    "            'random_w_cryptos_random_maxsharpe': random_w_cryptos_random_maxsharpe,\n",
    "            'minvar_w_cryptos_kmeans_equalw': minvar_w_cryptos_kmeans_equalw,\n",
    "            'minvar_w_cryptos_kmeans_maxsharpe': minvar_w_cryptos_kmeans_maxsharpe, \n",
    "            'minvar_w_cryptos_kshape_equalw': minvar_w_cryptos_kshape_equalw,\n",
    "            'minvar_w_cryptos_kshape_maxsharpe': minvar_w_cryptos_kshape_maxsharpe,\n",
    "            'minvar_w_cryptos_ahc_equalw': minvar_w_cryptos_ahc_equalw,\n",
    "            'minvar_w_cryptos_ahc_maxsharpe': minvar_w_cryptos_ahc_maxsharpe,\n",
    "            'minvar_w_cryptos_random_equalw': minvar_w_cryptos_random_equalw,\n",
    "            'minvar_w_cryptos_random_maxsharpe': minvar_w_cryptos_random_maxsharpe}\n",
    "\n",
    "with open(f\"all_optimized_sets_for_simulation.json\", \"w\") as f:\n",
    "    json.dump(all_sets, f, indent=4)"
   ]
  },
  {
   "cell_type": "code",
   "execution_count": null,
   "id": "a6244103",
   "metadata": {},
   "outputs": [],
   "source": []
  }
 ],
 "metadata": {
  "kernelspec": {
   "display_name": "venv312",
   "language": "python",
   "name": "python3"
  },
  "language_info": {
   "codemirror_mode": {
    "name": "ipython",
    "version": 3
   },
   "file_extension": ".py",
   "mimetype": "text/x-python",
   "name": "python",
   "nbconvert_exporter": "python",
   "pygments_lexer": "ipython3",
   "version": "3.12.10"
  }
 },
 "nbformat": 4,
 "nbformat_minor": 5
}
