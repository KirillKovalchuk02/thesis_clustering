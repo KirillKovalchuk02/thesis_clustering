{
 "cells": [
  {
   "cell_type": "code",
   "execution_count": 1,
   "id": "dbc14318",
   "metadata": {},
   "outputs": [
    {
     "name": "stderr",
     "output_type": "stream",
     "text": [
      "c:\\Users\\Kirill\\Documents\\Projects\\thesis\\venv312\\Lib\\site-packages\\tslearn\\bases\\bases.py:15: UserWarning: h5py not installed, hdf5 features will not be supported.\n",
      "Install h5py to use hdf5 features: http://docs.h5py.org/\n",
      "  warn(h5py_msg)\n"
     ]
    }
   ],
   "source": [
    "from pypfopt import EfficientFrontier\n",
    "from pypfopt import risk_models\n",
    "from pypfopt import expected_returns\n",
    "\n",
    "import pandas as pd\n",
    "from functions import join_stocks_crypto, generate_rand_portfolios, sharpe_ratio_calculation, select_top_five, run_clustering_model\n",
    "\n",
    "import cvxpy as cp\n",
    "import random"
   ]
  },
  {
   "cell_type": "code",
   "execution_count": 2,
   "id": "f141703b",
   "metadata": {},
   "outputs": [],
   "source": [
    "df_all_stocks = pd.read_csv('stocks_data_filled.csv',index_col='Date')\n",
    "cryptos_df = pd.read_csv('cryptos_data.csv', index_col='Date')\n",
    "joined_df = join_stocks_crypto(cryptos_df, df_all_stocks, mode = 'stocks_left')"
   ]
  },
  {
   "cell_type": "code",
   "execution_count": 3,
   "id": "3a8cd38f",
   "metadata": {},
   "outputs": [],
   "source": [
    "tickers = list(df_all_stocks.columns)\n",
    "\n",
    "random.seed(42)\n",
    "random_portfolios = generate_rand_portfolios(n_reps=1000, n_stocks=15, tickers=tickers)\n",
    "\n",
    "\n",
    "#Select top five sharpe ratio portfolios from a portfolio\n",
    "sharpe_ratio = sharpe_ratio_calculation(df_all_stocks, rf_rate_annual = 0.02)\n",
    "top_five_dict = select_top_five(random_portfolios, metric=sharpe_ratio)"
   ]
  },
  {
   "cell_type": "code",
   "execution_count": 4,
   "id": "6994edf5",
   "metadata": {},
   "outputs": [
    {
     "data": {
      "text/plain": [
       "{'CRESY': 0.9624262180841339,\n",
       " '601857.SS': 0.8426712750398243,\n",
       " 'PKX': 0.7110552210687626,\n",
       " '0386.HK': 0.6714594474023661,\n",
       " 'VERX': 0.6467235554934667}"
      ]
     },
     "execution_count": 4,
     "metadata": {},
     "output_type": "execute_result"
    }
   ],
   "source": [
    "top_five = top_five_dict['portfolio_0']\n",
    "top_five"
   ]
  },
  {
   "cell_type": "code",
   "execution_count": 5,
   "id": "5a26b2de",
   "metadata": {},
   "outputs": [
    {
     "name": "stderr",
     "output_type": "stream",
     "text": [
      "c:\\Users\\Kirill\\Documents\\Projects\\thesis\\venv312\\Lib\\site-packages\\pandas\\core\\internals\\blocks.py:393: RuntimeWarning: invalid value encountered in log\n",
      "  result = func(self.values, **kwargs)\n",
      "c:\\Users\\Kirill\\Documents\\Projects\\thesis\\venv312\\Lib\\site-packages\\pandas\\core\\internals\\blocks.py:393: RuntimeWarning: invalid value encountered in log\n",
      "  result = func(self.values, **kwargs)\n"
     ]
    }
   ],
   "source": [
    "df = df_all_stocks.rolling(window=30, center=True).mean()\n",
    "labels, tickers_with_labels, _, _ = run_clustering_model(df, n_clus=4, model_name='ahc', linkage='complete', return_mode='geometric', n_init=3)"
   ]
  },
  {
   "cell_type": "code",
   "execution_count": 25,
   "id": "8c95c897",
   "metadata": {},
   "outputs": [
    {
     "name": "stdout",
     "output_type": "stream",
     "text": [
      "{'CRESY': 3, 'PKX': 1, 'VERX': 3, 'PQ9.F': 0, 'QF9.F': 0, 'ULVR.L': 1, 'CCEP.AS': 2, 'KPN.AS': 3, '601398.SS': 3, '601857.SS': 1, '2914.T': 1, '9432.T': 1, '9434.T': 3, '0386.HK': 1, '6288.HK': 2}\n"
     ]
    },
    {
     "data": {
      "text/plain": [
       "{'CRESY': 0.05,\n",
       " 'PKX': 0.05,\n",
       " 'VERX': 0.05,\n",
       " 'PQ9.F': 0.0039855865214221,\n",
       " 'QF9.F': 0.0038098836028477,\n",
       " 'ULVR.L': 0.083460732661682,\n",
       " 'CCEP.AS': 0.0358732665403442,\n",
       " 'KPN.AS': 0.1989628909554588,\n",
       " '601398.SS': 0.1020023098308874,\n",
       " '601857.SS': 0.05,\n",
       " '2914.T': 0.0656621100814813,\n",
       " '9432.T': 0.098729893762018,\n",
       " '9434.T': 0.132602022629776,\n",
       " '0386.HK': 0.05,\n",
       " '6288.HK': 0.0249113034140826}"
      ]
     },
     "execution_count": 25,
     "metadata": {},
     "output_type": "execute_result"
    }
   ],
   "source": [
    "mu = expected_returns.mean_historical_return(joined_df)\n",
    "\n",
    "S = risk_models.sample_cov(joined_df)\n",
    "\n",
    "top_five = {'CRESY': 0.9624262180841339,\n",
    " '601857.SS': 0.8426712750398243,\n",
    " 'PKX': 0.7110552210687626,\n",
    " '0386.HK': 0.6714594474023661,\n",
    " 'VERX': 0.6467235554934667}\n",
    "\n",
    "\n",
    "\n",
    "\n",
    "def optimize_portfolio(mu, S, top_five:dict, clusters:dict=None, min_weight_for_top_five=0.01, verbose=False, min_stocks_per_cluster=2):\n",
    "    \"\"\"\n",
    "    Optimizes a portfolio with the following constraints:\n",
    "    - Minimum weights for top five stocks\n",
    "    - Exactly 15 stocks in total\n",
    "    - At least 2 stocks from each cluster\n",
    "    \n",
    "    Parameters:\n",
    "    -----------\n",
    "    mu : pd.Series\n",
    "        Expected returns for each ticker\n",
    "    S : pd.DataFrame\n",
    "        Covariance matrix of returns\n",
    "    top_five : dict\n",
    "        Dictionary of top five tickers and their scores\n",
    "    clusters : dict\n",
    "        Dictionary mapping tickers to their cluster labels\n",
    "    min_weight_for_top_five : float, optional\n",
    "        Minimum weight for each of the top five stocks\n",
    "        \n",
    "    Returns:\n",
    "    --------\n",
    "    dict\n",
    "        Selected tickers and their optimized weights\n",
    "    \"\"\"\n",
    "    ef = EfficientFrontier(mu, S, solver=cp.CPLEX, weight_bounds=(0,1))\n",
    "    \n",
    "    for ticker in top_five.keys():\n",
    "        ef.add_constraint(lambda w, t=ticker: w[ef.tickers.index(t)] >= min_weight_for_top_five)\n",
    "    \n",
    "    booleans = cp.Variable(len(ef.tickers), boolean=True)\n",
    "\n",
    "    ef.add_constraint(lambda x: x <= booleans)\n",
    "    ef.add_constraint(lambda x: cp.sum(booleans) == 15)\n",
    "    \n",
    "\n",
    "\n",
    "\n",
    "    if clusters:\n",
    "        unique_clusters = set(clusters.values())\n",
    "        #print(f\"Found {len(unique_clusters)} unique clusters: {unique_clusters}\")\n",
    "    \n",
    "        # Add cluster constraints - at least 2 stocks from each cluster\n",
    "        for cluster_label in unique_clusters:\n",
    "            # Get indices of tickers in this cluster that are in ef.tickers\n",
    "            cluster_tickers = [ticker for ticker in ef.tickers if ticker in clusters and clusters[ticker] == cluster_label]\n",
    "            cluster_indices = [ef.tickers.index(ticker) for ticker in cluster_tickers]\n",
    "\n",
    "            if verbose:\n",
    "                print(f\"Cluster {cluster_label}: found {len(cluster_indices)} stocks\")\n",
    "\n",
    "            # Add constraint to select at least 2 stocks from this cluster\n",
    "            if cluster_indices:  # Only add constraint if there are stocks in this cluster\n",
    "                cluster_sum = cp.sum([booleans[i] for i in cluster_indices])\n",
    "                ef.add_constraint(lambda w, cs=cluster_sum: cs >= min_stocks_per_cluster)\n",
    "    \n",
    "    # Find the minimum volatility portfolio\n",
    "    weights = ef.min_volatility()\n",
    "    \n",
    "    if verbose and clusters:\n",
    "        # Check which stocks were selected and their weights\n",
    "        selected_stocks = [ticker for ticker in ef.tickers if weights[ticker] > 1e-5]\n",
    "        print(f\"Selected {len(selected_stocks)} stocks in total\")\n",
    "\n",
    "        # Print cluster representation\n",
    "        for cluster_label in unique_clusters:\n",
    "            cluster_stocks = [t for t in selected_stocks if t in clusters and clusters[t] == cluster_label]\n",
    "            print(f\"Cluster {cluster_label}: {len(cluster_stocks)} stocks selected - {cluster_stocks}\")\n",
    "    \n",
    "    # Don't filter by minimum weight here to ensure we get all 15 stocks\n",
    "    selected = {ticker: weights[ticker] for ticker in ef.tickers if weights[ticker] > 1e-5}\n",
    "    \n",
    "    return selected\n",
    "\n",
    "\n",
    "opt_port = optimize_portfolio(mu, S, top_five, min_weight_for_top_five=0.05, verbose=False, clusters=tickers_with_labels)\n",
    "\n",
    "print({key: tickers_with_labels[key] for key in opt_port.keys()})\n",
    "opt_port"
   ]
  },
  {
   "cell_type": "code",
   "execution_count": null,
   "id": "cdc8b666",
   "metadata": {},
   "outputs": [],
   "source": []
  }
 ],
 "metadata": {
  "kernelspec": {
   "display_name": "venv312",
   "language": "python",
   "name": "python3"
  },
  "language_info": {
   "codemirror_mode": {
    "name": "ipython",
    "version": 3
   },
   "file_extension": ".py",
   "mimetype": "text/x-python",
   "name": "python",
   "nbconvert_exporter": "python",
   "pygments_lexer": "ipython3",
   "version": "3.12.10"
  }
 },
 "nbformat": 4,
 "nbformat_minor": 5
}
